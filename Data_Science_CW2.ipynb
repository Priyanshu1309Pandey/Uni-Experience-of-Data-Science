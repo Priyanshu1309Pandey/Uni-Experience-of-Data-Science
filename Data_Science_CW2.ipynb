{
  "nbformat": 4,
  "nbformat_minor": 5,
  "metadata": {
    "kernelspec": {
      "display_name": "Python 3",
      "language": "python",
      "name": "python3"
    },
    "language_info": {
      "codemirror_mode": {
        "name": "ipython",
        "version": 3
      },
      "file_extension": ".py",
      "mimetype": "text/x-python",
      "name": "python",
      "nbconvert_exporter": "python",
      "pygments_lexer": "ipython3",
      "version": "3.8.8"
    },
    "colab": {
      "name": "Data Science - CW2.ipynb",
      "provenance": []
    }
  },
  "cells": [
    {
      "cell_type": "code",
      "metadata": {
        "id": "5e58fa98"
      },
      "source": [
        "from pandas import *"
      ],
      "id": "5e58fa98",
      "execution_count": 1,
      "outputs": []
    },
    {
      "cell_type": "code",
      "metadata": {
        "colab": {
          "base_uri": "https://localhost:8080/"
        },
        "id": "5FsPnrh0v1uE",
        "outputId": "6f2235ab-a347-40a0-abce-158aacea713b"
      },
      "source": [
        "!wget https://assets.publishing.service.gov.uk/government/uploads/system/uploads/attachment_data/file/845345/File_7_-_All_IoD2019_Scores__Ranks__Deciles_and_Population_Denominators_3.csv"
      ],
      "id": "5FsPnrh0v1uE",
      "execution_count": 2,
      "outputs": [
        {
          "output_type": "stream",
          "name": "stdout",
          "text": [
            "--2021-11-29 23:13:25--  https://assets.publishing.service.gov.uk/government/uploads/system/uploads/attachment_data/file/845345/File_7_-_All_IoD2019_Scores__Ranks__Deciles_and_Population_Denominators_3.csv\n",
            "Resolving assets.publishing.service.gov.uk (assets.publishing.service.gov.uk)... 151.101.0.144, 151.101.64.144, 151.101.128.144, ...\n",
            "Connecting to assets.publishing.service.gov.uk (assets.publishing.service.gov.uk)|151.101.0.144|:443... connected.\n",
            "HTTP request sent, awaiting response... 200 OK\n",
            "Length: 9727566 (9.3M) [text/csv]\n",
            "Saving to: ‘File_7_-_All_IoD2019_Scores__Ranks__Deciles_and_Population_Denominators_3.csv’\n",
            "\n",
            "File_7_-_All_IoD201 100%[===================>]   9.28M  --.-KB/s    in 0.1s    \n",
            "\n",
            "2021-11-29 23:13:27 (90.8 MB/s) - ‘File_7_-_All_IoD2019_Scores__Ranks__Deciles_and_Population_Denominators_3.csv’ saved [9727566/9727566]\n",
            "\n"
          ]
        }
      ]
    },
    {
      "cell_type": "code",
      "metadata": {
        "colab": {
          "base_uri": "https://localhost:8080/"
        },
        "id": "gSlsL8Q2v9PV",
        "outputId": "7a6a375e-4bef-4ae5-aa39-c5f97e19f58b"
      },
      "source": [
        "!wget https://files.digital.nhs.uk/ED/A40690/nhs-dent-stat-eng-18-19-anx3-act.zip"
      ],
      "id": "gSlsL8Q2v9PV",
      "execution_count": 3,
      "outputs": [
        {
          "output_type": "stream",
          "name": "stdout",
          "text": [
            "--2021-11-29 23:13:28--  https://files.digital.nhs.uk/ED/A40690/nhs-dent-stat-eng-18-19-anx3-act.zip\n",
            "Resolving files.digital.nhs.uk (files.digital.nhs.uk)... 13.35.118.123, 13.35.118.72, 13.35.118.117, ...\n",
            "Connecting to files.digital.nhs.uk (files.digital.nhs.uk)|13.35.118.123|:443... connected.\n",
            "HTTP request sent, awaiting response... 200 OK\n",
            "Length: 4755311 (4.5M) [application/zip]\n",
            "Saving to: ‘nhs-dent-stat-eng-18-19-anx3-act.zip’\n",
            "\n",
            "nhs-dent-stat-eng-1 100%[===================>]   4.53M  6.83MB/s    in 0.7s    \n",
            "\n",
            "2021-11-29 23:13:30 (6.83 MB/s) - ‘nhs-dent-stat-eng-18-19-anx3-act.zip’ saved [4755311/4755311]\n",
            "\n"
          ]
        }
      ]
    },
    {
      "cell_type": "code",
      "metadata": {
        "colab": {
          "base_uri": "https://localhost:8080/"
        },
        "id": "eiOluZL3wIHI",
        "outputId": "a5de67ba-1b9e-49e4-9ab7-ddb3cafb2835"
      },
      "source": [
        "!wget https://files.digital.nhs.uk/5B/4707CE/nhs-dent-stat-eng-jul18-jun19-anx3-ps-prac.zip"
      ],
      "id": "eiOluZL3wIHI",
      "execution_count": 4,
      "outputs": [
        {
          "output_type": "stream",
          "name": "stdout",
          "text": [
            "--2021-11-29 23:13:30--  https://files.digital.nhs.uk/5B/4707CE/nhs-dent-stat-eng-jul18-jun19-anx3-ps-prac.zip\n",
            "Resolving files.digital.nhs.uk (files.digital.nhs.uk)... 13.35.118.123, 13.35.118.72, 13.35.118.117, ...\n",
            "Connecting to files.digital.nhs.uk (files.digital.nhs.uk)|13.35.118.123|:443... connected.\n",
            "HTTP request sent, awaiting response... 200 OK\n",
            "Length: 11423485 (11M) [application/zip]\n",
            "Saving to: ‘nhs-dent-stat-eng-jul18-jun19-anx3-ps-prac.zip’\n",
            "\n",
            "nhs-dent-stat-eng-j 100%[===================>]  10.89M  57.7MB/s    in 0.2s    \n",
            "\n",
            "2021-11-29 23:13:31 (57.7 MB/s) - ‘nhs-dent-stat-eng-jul18-jun19-anx3-ps-prac.zip’ saved [11423485/11423485]\n",
            "\n"
          ]
        }
      ]
    },
    {
      "cell_type": "code",
      "metadata": {
        "colab": {
          "base_uri": "https://localhost:8080/"
        },
        "id": "xBfHrQruwIUD",
        "outputId": "d2ba6713-b3d5-40a5-fc15-13754e49ddeb"
      },
      "source": [
        "!wget https://files.digital.nhs.uk/32/B0F7BA/nhs-dent-stat-eng-18-19-anx3-clin-char.zip"
      ],
      "id": "xBfHrQruwIUD",
      "execution_count": 5,
      "outputs": [
        {
          "output_type": "stream",
          "name": "stdout",
          "text": [
            "--2021-11-29 23:13:31--  https://files.digital.nhs.uk/32/B0F7BA/nhs-dent-stat-eng-18-19-anx3-clin-char.zip\n",
            "Resolving files.digital.nhs.uk (files.digital.nhs.uk)... 13.35.118.123, 13.35.118.72, 13.35.118.117, ...\n",
            "Connecting to files.digital.nhs.uk (files.digital.nhs.uk)|13.35.118.123|:443... connected.\n",
            "HTTP request sent, awaiting response... 200 OK\n",
            "Length: 1853489 (1.8M) [application/zip]\n",
            "Saving to: ‘nhs-dent-stat-eng-18-19-anx3-clin-char.zip’\n",
            "\n",
            "nhs-dent-stat-eng-1 100%[===================>]   1.77M  3.27MB/s    in 0.5s    \n",
            "\n",
            "2021-11-29 23:13:32 (3.27 MB/s) - ‘nhs-dent-stat-eng-18-19-anx3-clin-char.zip’ saved [1853489/1853489]\n",
            "\n"
          ]
        }
      ]
    },
    {
      "cell_type": "code",
      "metadata": {
        "colab": {
          "base_uri": "https://localhost:8080/"
        },
        "id": "5ioq7m8gwWgx",
        "outputId": "de5ca44a-221f-4db4-c441-6b1bb4dc4fba"
      },
      "source": [
        "ls"
      ],
      "id": "5ioq7m8gwWgx",
      "execution_count": 6,
      "outputs": [
        {
          "output_type": "stream",
          "name": "stdout",
          "text": [
            "File_7_-_All_IoD2019_Scores__Ranks__Deciles_and_Population_Denominators_3.csv\n",
            "nhs-dent-stat-eng-18-19-anx3-act.zip\n",
            "nhs-dent-stat-eng-18-19-anx3-clin-char.zip\n",
            "nhs-dent-stat-eng-jul18-jun19-anx3-ps-prac.zip\n",
            "\u001b[0m\u001b[01;34msample_data\u001b[0m/\n"
          ]
        }
      ]
    },
    {
      "cell_type": "code",
      "metadata": {
        "colab": {
          "base_uri": "https://localhost:8080/"
        },
        "id": "AdnDKN2IwIeY",
        "outputId": "f1c5cdb0-9611-458d-8b6f-be219f24bd98"
      },
      "source": [
        "!unzip nhs-dent-stat-eng-18-19-anx3-act.zip"
      ],
      "id": "AdnDKN2IwIeY",
      "execution_count": 7,
      "outputs": [
        {
          "output_type": "stream",
          "name": "stdout",
          "text": [
            "Archive:  nhs-dent-stat-eng-18-19-anx3-act.zip\n",
            "  inflating: nhs-dent-stat-eng-18-19-anx3-act.csv  \n"
          ]
        }
      ]
    },
    {
      "cell_type": "code",
      "metadata": {
        "colab": {
          "base_uri": "https://localhost:8080/"
        },
        "id": "7O43lVtTwh2P",
        "outputId": "07329cb3-e40a-4b97-9350-67b9c5e3a1a3"
      },
      "source": [
        "!unzip nhs-dent-stat-eng-18-19-anx3-clin-char.zip"
      ],
      "id": "7O43lVtTwh2P",
      "execution_count": 8,
      "outputs": [
        {
          "output_type": "stream",
          "name": "stdout",
          "text": [
            "Archive:  nhs-dent-stat-eng-18-19-anx3-clin-char.zip\n",
            "  inflating: nhs-dent-stat-eng-18-19-anx3-clin-char.csv  \n"
          ]
        }
      ]
    },
    {
      "cell_type": "code",
      "metadata": {
        "colab": {
          "base_uri": "https://localhost:8080/"
        },
        "id": "9zMUpI0QwmzL",
        "outputId": "cd35c2d4-c081-42b7-c7eb-589794eef1c8"
      },
      "source": [
        "!unzip nhs-dent-stat-eng-jul18-jun19-anx3-ps-prac.zip"
      ],
      "id": "9zMUpI0QwmzL",
      "execution_count": 9,
      "outputs": [
        {
          "output_type": "stream",
          "name": "stdout",
          "text": [
            "Archive:  nhs-dent-stat-eng-jul18-jun19-anx3-ps-prac.zip\n",
            "  inflating: nhs-dent-stat-eng-jan-jun-19-anx3-ps-prac.csv  \n",
            "  inflating: nhs-dent-stat-eng-jul-dec-18-anx3-ps-prac.csv  \n"
          ]
        }
      ]
    },
    {
      "cell_type": "code",
      "metadata": {
        "id": "1583ca2e"
      },
      "source": [
        "patient1 = read_csv('nhs-dent-stat-eng-jan-jun-19-anx3-ps-prac.csv')\n",
        "patient2 = read_csv('nhs-dent-stat-eng-jul-dec-18-anx3-ps-prac.csv')"
      ],
      "id": "1583ca2e",
      "execution_count": 10,
      "outputs": []
    },
    {
      "cell_type": "code",
      "metadata": {
        "colab": {
          "base_uri": "https://localhost:8080/"
        },
        "id": "00b35459",
        "outputId": "a8e11da7-54ab-4166-9173-39b45bb77386"
      },
      "source": [
        "patient1.shape"
      ],
      "id": "00b35459",
      "execution_count": 11,
      "outputs": [
        {
          "output_type": "execute_result",
          "data": {
            "text/plain": [
              "(843918, 20)"
            ]
          },
          "metadata": {},
          "execution_count": 11
        }
      ]
    },
    {
      "cell_type": "code",
      "metadata": {
        "colab": {
          "base_uri": "https://localhost:8080/",
          "height": 226
        },
        "id": "hxyIEdD1A9VM",
        "outputId": "407aef36-01f7-4c60-d7e9-79d0a9784fa0"
      },
      "source": [
        "patient1.tail(5)"
      ],
      "id": "hxyIEdD1A9VM",
      "execution_count": 74,
      "outputs": [
        {
          "output_type": "execute_result",
          "data": {
            "text/html": [
              "<div>\n",
              "<style scoped>\n",
              "    .dataframe tbody tr th:only-of-type {\n",
              "        vertical-align: middle;\n",
              "    }\n",
              "\n",
              "    .dataframe tbody tr th {\n",
              "        vertical-align: top;\n",
              "    }\n",
              "\n",
              "    .dataframe thead th {\n",
              "        text-align: right;\n",
              "    }\n",
              "</style>\n",
              "<table border=\"1\" class=\"dataframe\">\n",
              "  <thead>\n",
              "    <tr style=\"text-align: right;\">\n",
              "      <th></th>\n",
              "      <th>PSEEN_END_DATE</th>\n",
              "      <th>GEOG_TYPE</th>\n",
              "      <th>PRACTICE_CODE</th>\n",
              "      <th>PRACTICE_NAME</th>\n",
              "      <th>PRAC_POSTCODE</th>\n",
              "      <th>CCG_CODE</th>\n",
              "      <th>CCG_ONS_CODE</th>\n",
              "      <th>CCG_NAME</th>\n",
              "      <th>LA_CODE</th>\n",
              "      <th>LA_NAME</th>\n",
              "      <th>REGION_LO_CODE</th>\n",
              "      <th>REGION_LO_ONS_CODE</th>\n",
              "      <th>REGION_LO_NAME</th>\n",
              "      <th>REGION_CODE</th>\n",
              "      <th>REGION_ONS_CODE</th>\n",
              "      <th>REGION_NAME</th>\n",
              "      <th>PATIENT_TYPE</th>\n",
              "      <th>AGE_BAND</th>\n",
              "      <th>PATIENTS_SEEN</th>\n",
              "      <th>POPULATION</th>\n",
              "    </tr>\n",
              "  </thead>\n",
              "  <tbody>\n",
              "    <tr>\n",
              "      <th>843913</th>\n",
              "      <td>30/06/2019</td>\n",
              "      <td>LA</td>\n",
              "      <td>NaN</td>\n",
              "      <td>NaN</td>\n",
              "      <td>NaN</td>\n",
              "      <td>NaN</td>\n",
              "      <td>NaN</td>\n",
              "      <td>NaN</td>\n",
              "      <td>Unallocated</td>\n",
              "      <td>Unallocated</td>\n",
              "      <td>NaN</td>\n",
              "      <td>NaN</td>\n",
              "      <td>NaN</td>\n",
              "      <td>NaN</td>\n",
              "      <td>NaN</td>\n",
              "      <td>NaN</td>\n",
              "      <td>Child</td>\n",
              "      <td>5</td>\n",
              "      <td>1207</td>\n",
              "      <td>NaN</td>\n",
              "    </tr>\n",
              "    <tr>\n",
              "      <th>843914</th>\n",
              "      <td>30/06/2019</td>\n",
              "      <td>LA</td>\n",
              "      <td>NaN</td>\n",
              "      <td>NaN</td>\n",
              "      <td>NaN</td>\n",
              "      <td>NaN</td>\n",
              "      <td>NaN</td>\n",
              "      <td>NaN</td>\n",
              "      <td>Unallocated</td>\n",
              "      <td>Unallocated</td>\n",
              "      <td>NaN</td>\n",
              "      <td>NaN</td>\n",
              "      <td>NaN</td>\n",
              "      <td>NaN</td>\n",
              "      <td>NaN</td>\n",
              "      <td>NaN</td>\n",
              "      <td>Child</td>\n",
              "      <td>6</td>\n",
              "      <td>1504</td>\n",
              "      <td>NaN</td>\n",
              "    </tr>\n",
              "    <tr>\n",
              "      <th>843915</th>\n",
              "      <td>30/06/2019</td>\n",
              "      <td>LA</td>\n",
              "      <td>NaN</td>\n",
              "      <td>NaN</td>\n",
              "      <td>NaN</td>\n",
              "      <td>NaN</td>\n",
              "      <td>NaN</td>\n",
              "      <td>NaN</td>\n",
              "      <td>Unallocated</td>\n",
              "      <td>Unallocated</td>\n",
              "      <td>NaN</td>\n",
              "      <td>NaN</td>\n",
              "      <td>NaN</td>\n",
              "      <td>NaN</td>\n",
              "      <td>NaN</td>\n",
              "      <td>NaN</td>\n",
              "      <td>Child</td>\n",
              "      <td>7</td>\n",
              "      <td>1455</td>\n",
              "      <td>NaN</td>\n",
              "    </tr>\n",
              "    <tr>\n",
              "      <th>843916</th>\n",
              "      <td>30/06/2019</td>\n",
              "      <td>LA</td>\n",
              "      <td>NaN</td>\n",
              "      <td>NaN</td>\n",
              "      <td>NaN</td>\n",
              "      <td>NaN</td>\n",
              "      <td>NaN</td>\n",
              "      <td>NaN</td>\n",
              "      <td>Unallocated</td>\n",
              "      <td>Unallocated</td>\n",
              "      <td>NaN</td>\n",
              "      <td>NaN</td>\n",
              "      <td>NaN</td>\n",
              "      <td>NaN</td>\n",
              "      <td>NaN</td>\n",
              "      <td>NaN</td>\n",
              "      <td>Child</td>\n",
              "      <td>8</td>\n",
              "      <td>1515</td>\n",
              "      <td>NaN</td>\n",
              "    </tr>\n",
              "    <tr>\n",
              "      <th>843917</th>\n",
              "      <td>30/06/2019</td>\n",
              "      <td>LA</td>\n",
              "      <td>NaN</td>\n",
              "      <td>NaN</td>\n",
              "      <td>NaN</td>\n",
              "      <td>NaN</td>\n",
              "      <td>NaN</td>\n",
              "      <td>NaN</td>\n",
              "      <td>Unallocated</td>\n",
              "      <td>Unallocated</td>\n",
              "      <td>NaN</td>\n",
              "      <td>NaN</td>\n",
              "      <td>NaN</td>\n",
              "      <td>NaN</td>\n",
              "      <td>NaN</td>\n",
              "      <td>NaN</td>\n",
              "      <td>Child</td>\n",
              "      <td>9</td>\n",
              "      <td>1451</td>\n",
              "      <td>NaN</td>\n",
              "    </tr>\n",
              "  </tbody>\n",
              "</table>\n",
              "</div>"
            ],
            "text/plain": [
              "       PSEEN_END_DATE GEOG_TYPE  ... PATIENTS_SEEN POPULATION\n",
              "843913     30/06/2019        LA  ...          1207        NaN\n",
              "843914     30/06/2019        LA  ...          1504        NaN\n",
              "843915     30/06/2019        LA  ...          1455        NaN\n",
              "843916     30/06/2019        LA  ...          1515        NaN\n",
              "843917     30/06/2019        LA  ...          1451        NaN\n",
              "\n",
              "[5 rows x 20 columns]"
            ]
          },
          "metadata": {},
          "execution_count": 74
        }
      ]
    },
    {
      "cell_type": "code",
      "metadata": {
        "colab": {
          "base_uri": "https://localhost:8080/"
        },
        "id": "URX71sTe-dnE",
        "outputId": "e6d0be39-a004-4531-ec9e-887a8f9d3921"
      },
      "source": [
        "missing1 = patient1.isnull().sum()\n",
        "missing1"
      ],
      "id": "URX71sTe-dnE",
      "execution_count": 13,
      "outputs": [
        {
          "output_type": "execute_result",
          "data": {
            "text/plain": [
              "PSEEN_END_DATE             0\n",
              "GEOG_TYPE                  0\n",
              "PRACTICE_CODE          39102\n",
              "PRACTICE_NAME          39102\n",
              "PRAC_POSTCODE          39102\n",
              "CCG_CODE               17214\n",
              "CCG_ONS_CODE           17214\n",
              "CCG_NAME               17214\n",
              "LA_CODE                21888\n",
              "LA_NAME                21888\n",
              "REGION_LO_CODE         17214\n",
              "REGION_LO_ONS_CODE     17214\n",
              "REGION_LO_NAME         17214\n",
              "REGION_CODE            17214\n",
              "REGION_ONS_CODE        17214\n",
              "REGION_NAME            17214\n",
              "PATIENT_TYPE               0\n",
              "AGE_BAND                   0\n",
              "PATIENTS_SEEN              0\n",
              "POPULATION            805272\n",
              "dtype: int64"
            ]
          },
          "metadata": {},
          "execution_count": 13
        }
      ]
    },
    {
      "cell_type": "code",
      "metadata": {
        "colab": {
          "base_uri": "https://localhost:8080/"
        },
        "id": "F6BgFoKuAeUk",
        "outputId": "ddf41991-29d4-4449-868a-f6d42ef45846"
      },
      "source": [
        "patient1.info()"
      ],
      "id": "F6BgFoKuAeUk",
      "execution_count": 70,
      "outputs": [
        {
          "output_type": "stream",
          "name": "stdout",
          "text": [
            "<class 'pandas.core.frame.DataFrame'>\n",
            "RangeIndex: 843918 entries, 0 to 843917\n",
            "Data columns (total 20 columns):\n",
            " #   Column              Non-Null Count   Dtype  \n",
            "---  ------              --------------   -----  \n",
            " 0   PSEEN_END_DATE      843918 non-null  object \n",
            " 1   GEOG_TYPE           843918 non-null  object \n",
            " 2   PRACTICE_CODE       804816 non-null  object \n",
            " 3   PRACTICE_NAME       804816 non-null  object \n",
            " 4   PRAC_POSTCODE       804816 non-null  object \n",
            " 5   CCG_CODE            826704 non-null  object \n",
            " 6   CCG_ONS_CODE        826704 non-null  object \n",
            " 7   CCG_NAME            826704 non-null  object \n",
            " 8   LA_CODE             822030 non-null  object \n",
            " 9   LA_NAME             822030 non-null  object \n",
            " 10  REGION_LO_CODE      826704 non-null  object \n",
            " 11  REGION_LO_ONS_CODE  826704 non-null  object \n",
            " 12  REGION_LO_NAME      826704 non-null  object \n",
            " 13  REGION_CODE         826704 non-null  object \n",
            " 14  REGION_ONS_CODE     826704 non-null  object \n",
            " 15  REGION_NAME         826704 non-null  object \n",
            " 16  PATIENT_TYPE        843918 non-null  object \n",
            " 17  AGE_BAND            843918 non-null  object \n",
            " 18  PATIENTS_SEEN       843918 non-null  int64  \n",
            " 19  POPULATION          38646 non-null   float64\n",
            "dtypes: float64(1), int64(1), object(18)\n",
            "memory usage: 128.8+ MB\n"
          ]
        }
      ]
    },
    {
      "cell_type": "code",
      "metadata": {
        "colab": {
          "base_uri": "https://localhost:8080/",
          "height": 300
        },
        "id": "yCM_pemFAx4s",
        "outputId": "449d3e85-427f-411e-a62d-8c0a75e1f787"
      },
      "source": [
        "patient1.describe()"
      ],
      "id": "yCM_pemFAx4s",
      "execution_count": 71,
      "outputs": [
        {
          "output_type": "execute_result",
          "data": {
            "text/html": [
              "<div>\n",
              "<style scoped>\n",
              "    .dataframe tbody tr th:only-of-type {\n",
              "        vertical-align: middle;\n",
              "    }\n",
              "\n",
              "    .dataframe tbody tr th {\n",
              "        vertical-align: top;\n",
              "    }\n",
              "\n",
              "    .dataframe thead th {\n",
              "        text-align: right;\n",
              "    }\n",
              "</style>\n",
              "<table border=\"1\" class=\"dataframe\">\n",
              "  <thead>\n",
              "    <tr style=\"text-align: right;\">\n",
              "      <th></th>\n",
              "      <th>PATIENTS_SEEN</th>\n",
              "      <th>POPULATION</th>\n",
              "    </tr>\n",
              "  </thead>\n",
              "  <tbody>\n",
              "    <tr>\n",
              "      <th>count</th>\n",
              "      <td>843918.000000</td>\n",
              "      <td>3.864600e+04</td>\n",
              "    </tr>\n",
              "    <tr>\n",
              "      <th>mean</th>\n",
              "      <td>618.553891</td>\n",
              "      <td>1.715043e+04</td>\n",
              "    </tr>\n",
              "    <tr>\n",
              "      <th>std</th>\n",
              "      <td>7808.325713</td>\n",
              "      <td>7.037745e+04</td>\n",
              "    </tr>\n",
              "    <tr>\n",
              "      <th>min</th>\n",
              "      <td>0.000000</td>\n",
              "      <td>4.300000e+01</td>\n",
              "    </tr>\n",
              "    <tr>\n",
              "      <th>25%</th>\n",
              "      <td>20.000000</td>\n",
              "      <td>2.241000e+03</td>\n",
              "    </tr>\n",
              "    <tr>\n",
              "      <th>50%</th>\n",
              "      <td>47.000000</td>\n",
              "      <td>3.217000e+03</td>\n",
              "    </tr>\n",
              "    <tr>\n",
              "      <th>75%</th>\n",
              "      <td>94.000000</td>\n",
              "      <td>4.918000e+03</td>\n",
              "    </tr>\n",
              "    <tr>\n",
              "      <th>max</th>\n",
              "      <td>589421.000000</td>\n",
              "      <td>1.218546e+06</td>\n",
              "    </tr>\n",
              "  </tbody>\n",
              "</table>\n",
              "</div>"
            ],
            "text/plain": [
              "       PATIENTS_SEEN    POPULATION\n",
              "count  843918.000000  3.864600e+04\n",
              "mean      618.553891  1.715043e+04\n",
              "std      7808.325713  7.037745e+04\n",
              "min         0.000000  4.300000e+01\n",
              "25%        20.000000  2.241000e+03\n",
              "50%        47.000000  3.217000e+03\n",
              "75%        94.000000  4.918000e+03\n",
              "max    589421.000000  1.218546e+06"
            ]
          },
          "metadata": {},
          "execution_count": 71
        }
      ]
    },
    {
      "cell_type": "code",
      "metadata": {
        "colab": {
          "base_uri": "https://localhost:8080/"
        },
        "id": "4V85PzLoFWxf",
        "outputId": "1bb0cbc8-07c7-49e8-d75b-81f8c73c125d"
      },
      "source": [
        "patient1.columns"
      ],
      "id": "4V85PzLoFWxf",
      "execution_count": 12,
      "outputs": [
        {
          "output_type": "execute_result",
          "data": {
            "text/plain": [
              "Index(['PSEEN_END_DATE', 'GEOG_TYPE', 'PRACTICE_CODE', 'PRACTICE_NAME',\n",
              "       'PRAC_POSTCODE', 'CCG_CODE', 'CCG_ONS_CODE', 'CCG_NAME', 'LA_CODE',\n",
              "       'LA_NAME', 'REGION_LO_CODE', 'REGION_LO_ONS_CODE', 'REGION_LO_NAME',\n",
              "       'REGION_CODE', 'REGION_ONS_CODE', 'REGION_NAME', 'PATIENT_TYPE',\n",
              "       'AGE_BAND', 'PATIENTS_SEEN', 'POPULATION'],\n",
              "      dtype='object')"
            ]
          },
          "metadata": {},
          "execution_count": 12
        }
      ]
    },
    {
      "cell_type": "code",
      "metadata": {
        "colab": {
          "base_uri": "https://localhost:8080/"
        },
        "id": "aSZGE0aP-u1u",
        "outputId": "a6e16f8c-3f6b-4444-e342-05a0c13bcd43"
      },
      "source": [
        "missing2 = patient2.isnull().sum()\n",
        "missing2"
      ],
      "id": "aSZGE0aP-u1u",
      "execution_count": 14,
      "outputs": [
        {
          "output_type": "execute_result",
          "data": {
            "text/plain": [
              "PSEEN_END_DATE             0\n",
              "GEOTYPE                    0\n",
              "PRACTICE_CODE          39387\n",
              "PRACTICE_NAME          39387\n",
              "PRAC_POSTCODE          39387\n",
              "CCG_CODE               17271\n",
              "CCG_ONS_CODE           17271\n",
              "CCG_NAME               17271\n",
              "LA_CODE                22116\n",
              "LA_NAME                22116\n",
              "REGION_LO_CODE         17271\n",
              "REGION_LO_ONS_CODE     17271\n",
              "REGION_LO_NAME         17271\n",
              "REGION_CODE            17271\n",
              "REGION_ONS_CODE        24168\n",
              "REGION_NAME            24168\n",
              "PATIENT_TYPE               0\n",
              "AGE_BAND                   0\n",
              "PATIENTS_SEEN              0\n",
              "POPULATION            808845\n",
              "dtype: int64"
            ]
          },
          "metadata": {},
          "execution_count": 14
        }
      ]
    },
    {
      "cell_type": "code",
      "metadata": {
        "id": "c4eff584"
      },
      "source": [
        "patient = patient1.append(patient2)"
      ],
      "id": "c4eff584",
      "execution_count": 15,
      "outputs": []
    },
    {
      "cell_type": "code",
      "metadata": {
        "colab": {
          "base_uri": "https://localhost:8080/"
        },
        "id": "ho_BfyXpFmi1",
        "outputId": "f69495eb-30f2-44a5-9a04-cc84e7a65f30"
      },
      "source": [
        "patient2.columns"
      ],
      "id": "ho_BfyXpFmi1",
      "execution_count": 16,
      "outputs": [
        {
          "output_type": "execute_result",
          "data": {
            "text/plain": [
              "Index(['PSEEN_END_DATE', 'GEOTYPE', 'PRACTICE_CODE', 'PRACTICE_NAME',\n",
              "       'PRAC_POSTCODE', 'CCG_CODE', 'CCG_ONS_CODE', 'CCG_NAME', 'LA_CODE',\n",
              "       'LA_NAME', 'REGION_LO_CODE', 'REGION_LO_ONS_CODE', 'REGION_LO_NAME',\n",
              "       'REGION_CODE', 'REGION_ONS_CODE', 'REGION_NAME', 'PATIENT_TYPE',\n",
              "       'AGE_BAND', 'PATIENTS_SEEN', 'POPULATION'],\n",
              "      dtype='object')"
            ]
          },
          "metadata": {},
          "execution_count": 16
        }
      ]
    },
    {
      "cell_type": "code",
      "metadata": {
        "colab": {
          "base_uri": "https://localhost:8080/"
        },
        "id": "e08a3218",
        "outputId": "edb6a791-f013-480f-fc74-ef70f3285a90"
      },
      "source": [
        "patient2.shape"
      ],
      "id": "e08a3218",
      "execution_count": 17,
      "outputs": [
        {
          "output_type": "execute_result",
          "data": {
            "text/plain": [
              "(847548, 20)"
            ]
          },
          "metadata": {},
          "execution_count": 17
        }
      ]
    },
    {
      "cell_type": "code",
      "metadata": {
        "id": "UYNjILUvFyhV"
      },
      "source": [
        "patient2.set_axis( ['PSEEN_END_DATE', 'GEOG_TYPE', 'PRACTICE_CODE', 'PRACTICE_NAME',\n",
        "       'PRAC_POSTCODE', 'CCG_CODE', 'CCG_ONS_CODE', 'CCG_NAME', 'LA_CODE',\n",
        "       'LA_NAME', 'REGION_LO_CODE', 'REGION_LO_ONS_CODE', 'REGION_LO_NAME',\n",
        "       'REGION_CODE', 'REGION_ONS_CODE', 'REGION_NAME', 'PATIENT_TYPE',\n",
        "       'AGE_BAND', 'PATIENTS_SEEN', 'POPULATION'] , axis =1, inplace=True )"
      ],
      "id": "UYNjILUvFyhV",
      "execution_count": 18,
      "outputs": []
    },
    {
      "cell_type": "code",
      "metadata": {
        "colab": {
          "base_uri": "https://localhost:8080/"
        },
        "id": "2badf346",
        "outputId": "7e3072d9-a51d-4b3e-cbab-2956cc9f2059"
      },
      "source": [
        "patient.shape"
      ],
      "id": "2badf346",
      "execution_count": 19,
      "outputs": [
        {
          "output_type": "execute_result",
          "data": {
            "text/plain": [
              "(1691466, 21)"
            ]
          },
          "metadata": {},
          "execution_count": 19
        }
      ]
    },
    {
      "cell_type": "code",
      "metadata": {
        "colab": {
          "base_uri": "https://localhost:8080/",
          "height": 704
        },
        "id": "8922512c",
        "outputId": "2d1116cb-fbe7-4909-9f88-74f3ead74d5c"
      },
      "source": [
        "patient"
      ],
      "id": "8922512c",
      "execution_count": 20,
      "outputs": [
        {
          "output_type": "execute_result",
          "data": {
            "text/html": [
              "<div>\n",
              "<style scoped>\n",
              "    .dataframe tbody tr th:only-of-type {\n",
              "        vertical-align: middle;\n",
              "    }\n",
              "\n",
              "    .dataframe tbody tr th {\n",
              "        vertical-align: top;\n",
              "    }\n",
              "\n",
              "    .dataframe thead th {\n",
              "        text-align: right;\n",
              "    }\n",
              "</style>\n",
              "<table border=\"1\" class=\"dataframe\">\n",
              "  <thead>\n",
              "    <tr style=\"text-align: right;\">\n",
              "      <th></th>\n",
              "      <th>PSEEN_END_DATE</th>\n",
              "      <th>GEOG_TYPE</th>\n",
              "      <th>PRACTICE_CODE</th>\n",
              "      <th>PRACTICE_NAME</th>\n",
              "      <th>PRAC_POSTCODE</th>\n",
              "      <th>CCG_CODE</th>\n",
              "      <th>CCG_ONS_CODE</th>\n",
              "      <th>CCG_NAME</th>\n",
              "      <th>LA_CODE</th>\n",
              "      <th>LA_NAME</th>\n",
              "      <th>REGION_LO_CODE</th>\n",
              "      <th>REGION_LO_ONS_CODE</th>\n",
              "      <th>REGION_LO_NAME</th>\n",
              "      <th>REGION_CODE</th>\n",
              "      <th>REGION_ONS_CODE</th>\n",
              "      <th>REGION_NAME</th>\n",
              "      <th>PATIENT_TYPE</th>\n",
              "      <th>AGE_BAND</th>\n",
              "      <th>PATIENTS_SEEN</th>\n",
              "      <th>POPULATION</th>\n",
              "      <th>GEOTYPE</th>\n",
              "    </tr>\n",
              "  </thead>\n",
              "  <tbody>\n",
              "    <tr>\n",
              "      <th>0</th>\n",
              "      <td>31/01/2019</td>\n",
              "      <td>CCG</td>\n",
              "      <td>NaN</td>\n",
              "      <td>NaN</td>\n",
              "      <td>NaN</td>\n",
              "      <td>00C</td>\n",
              "      <td>E38000042</td>\n",
              "      <td>NHS Darlington CCG</td>\n",
              "      <td>NaN</td>\n",
              "      <td>NaN</td>\n",
              "      <td>Q74</td>\n",
              "      <td>E39000047</td>\n",
              "      <td>NHS England North East and Yorkshire (Cumbria ...</td>\n",
              "      <td>Y63</td>\n",
              "      <td>E40000009</td>\n",
              "      <td>North East and Yorkshire</td>\n",
              "      <td>Child</td>\n",
              "      <td>0</td>\n",
              "      <td>48</td>\n",
              "      <td>1114.0</td>\n",
              "      <td>NaN</td>\n",
              "    </tr>\n",
              "    <tr>\n",
              "      <th>1</th>\n",
              "      <td>31/01/2019</td>\n",
              "      <td>CCG</td>\n",
              "      <td>NaN</td>\n",
              "      <td>NaN</td>\n",
              "      <td>NaN</td>\n",
              "      <td>00C</td>\n",
              "      <td>E38000042</td>\n",
              "      <td>NHS Darlington CCG</td>\n",
              "      <td>NaN</td>\n",
              "      <td>NaN</td>\n",
              "      <td>Q74</td>\n",
              "      <td>E39000047</td>\n",
              "      <td>NHS England North East and Yorkshire (Cumbria ...</td>\n",
              "      <td>Y63</td>\n",
              "      <td>E40000009</td>\n",
              "      <td>North East and Yorkshire</td>\n",
              "      <td>Child</td>\n",
              "      <td>1</td>\n",
              "      <td>400</td>\n",
              "      <td>1212.0</td>\n",
              "      <td>NaN</td>\n",
              "    </tr>\n",
              "    <tr>\n",
              "      <th>2</th>\n",
              "      <td>31/01/2019</td>\n",
              "      <td>CCG</td>\n",
              "      <td>NaN</td>\n",
              "      <td>NaN</td>\n",
              "      <td>NaN</td>\n",
              "      <td>00C</td>\n",
              "      <td>E38000042</td>\n",
              "      <td>NHS Darlington CCG</td>\n",
              "      <td>NaN</td>\n",
              "      <td>NaN</td>\n",
              "      <td>Q74</td>\n",
              "      <td>E39000047</td>\n",
              "      <td>NHS England North East and Yorkshire (Cumbria ...</td>\n",
              "      <td>Y63</td>\n",
              "      <td>E40000009</td>\n",
              "      <td>North East and Yorkshire</td>\n",
              "      <td>Child</td>\n",
              "      <td>10</td>\n",
              "      <td>1030</td>\n",
              "      <td>1269.0</td>\n",
              "      <td>NaN</td>\n",
              "    </tr>\n",
              "    <tr>\n",
              "      <th>3</th>\n",
              "      <td>31/01/2019</td>\n",
              "      <td>CCG</td>\n",
              "      <td>NaN</td>\n",
              "      <td>NaN</td>\n",
              "      <td>NaN</td>\n",
              "      <td>00C</td>\n",
              "      <td>E38000042</td>\n",
              "      <td>NHS Darlington CCG</td>\n",
              "      <td>NaN</td>\n",
              "      <td>NaN</td>\n",
              "      <td>Q74</td>\n",
              "      <td>E39000047</td>\n",
              "      <td>NHS England North East and Yorkshire (Cumbria ...</td>\n",
              "      <td>Y63</td>\n",
              "      <td>E40000009</td>\n",
              "      <td>North East and Yorkshire</td>\n",
              "      <td>Child</td>\n",
              "      <td>11</td>\n",
              "      <td>910</td>\n",
              "      <td>1328.0</td>\n",
              "      <td>NaN</td>\n",
              "    </tr>\n",
              "    <tr>\n",
              "      <th>4</th>\n",
              "      <td>31/01/2019</td>\n",
              "      <td>CCG</td>\n",
              "      <td>NaN</td>\n",
              "      <td>NaN</td>\n",
              "      <td>NaN</td>\n",
              "      <td>00C</td>\n",
              "      <td>E38000042</td>\n",
              "      <td>NHS Darlington CCG</td>\n",
              "      <td>NaN</td>\n",
              "      <td>NaN</td>\n",
              "      <td>Q74</td>\n",
              "      <td>E39000047</td>\n",
              "      <td>NHS England North East and Yorkshire (Cumbria ...</td>\n",
              "      <td>Y63</td>\n",
              "      <td>E40000009</td>\n",
              "      <td>North East and Yorkshire</td>\n",
              "      <td>Child</td>\n",
              "      <td>12</td>\n",
              "      <td>1054</td>\n",
              "      <td>1218.0</td>\n",
              "      <td>NaN</td>\n",
              "    </tr>\n",
              "    <tr>\n",
              "      <th>...</th>\n",
              "      <td>...</td>\n",
              "      <td>...</td>\n",
              "      <td>...</td>\n",
              "      <td>...</td>\n",
              "      <td>...</td>\n",
              "      <td>...</td>\n",
              "      <td>...</td>\n",
              "      <td>...</td>\n",
              "      <td>...</td>\n",
              "      <td>...</td>\n",
              "      <td>...</td>\n",
              "      <td>...</td>\n",
              "      <td>...</td>\n",
              "      <td>...</td>\n",
              "      <td>...</td>\n",
              "      <td>...</td>\n",
              "      <td>...</td>\n",
              "      <td>...</td>\n",
              "      <td>...</td>\n",
              "      <td>...</td>\n",
              "      <td>...</td>\n",
              "    </tr>\n",
              "    <tr>\n",
              "      <th>847543</th>\n",
              "      <td>31/12/2018</td>\n",
              "      <td>NaN</td>\n",
              "      <td>NaN</td>\n",
              "      <td>NaN</td>\n",
              "      <td>NaN</td>\n",
              "      <td>NaN</td>\n",
              "      <td>NaN</td>\n",
              "      <td>NaN</td>\n",
              "      <td>Unallocated</td>\n",
              "      <td>Unallocated</td>\n",
              "      <td>NaN</td>\n",
              "      <td>NaN</td>\n",
              "      <td>NaN</td>\n",
              "      <td>NaN</td>\n",
              "      <td>NaN</td>\n",
              "      <td>NaN</td>\n",
              "      <td>Child</td>\n",
              "      <td>5</td>\n",
              "      <td>1328</td>\n",
              "      <td>NaN</td>\n",
              "      <td>LA</td>\n",
              "    </tr>\n",
              "    <tr>\n",
              "      <th>847544</th>\n",
              "      <td>31/12/2018</td>\n",
              "      <td>NaN</td>\n",
              "      <td>NaN</td>\n",
              "      <td>NaN</td>\n",
              "      <td>NaN</td>\n",
              "      <td>NaN</td>\n",
              "      <td>NaN</td>\n",
              "      <td>NaN</td>\n",
              "      <td>Unallocated</td>\n",
              "      <td>Unallocated</td>\n",
              "      <td>NaN</td>\n",
              "      <td>NaN</td>\n",
              "      <td>NaN</td>\n",
              "      <td>NaN</td>\n",
              "      <td>NaN</td>\n",
              "      <td>NaN</td>\n",
              "      <td>Child</td>\n",
              "      <td>6</td>\n",
              "      <td>1465</td>\n",
              "      <td>NaN</td>\n",
              "      <td>LA</td>\n",
              "    </tr>\n",
              "    <tr>\n",
              "      <th>847545</th>\n",
              "      <td>31/12/2018</td>\n",
              "      <td>NaN</td>\n",
              "      <td>NaN</td>\n",
              "      <td>NaN</td>\n",
              "      <td>NaN</td>\n",
              "      <td>NaN</td>\n",
              "      <td>NaN</td>\n",
              "      <td>NaN</td>\n",
              "      <td>Unallocated</td>\n",
              "      <td>Unallocated</td>\n",
              "      <td>NaN</td>\n",
              "      <td>NaN</td>\n",
              "      <td>NaN</td>\n",
              "      <td>NaN</td>\n",
              "      <td>NaN</td>\n",
              "      <td>NaN</td>\n",
              "      <td>Child</td>\n",
              "      <td>7</td>\n",
              "      <td>1526</td>\n",
              "      <td>NaN</td>\n",
              "      <td>LA</td>\n",
              "    </tr>\n",
              "    <tr>\n",
              "      <th>847546</th>\n",
              "      <td>31/12/2018</td>\n",
              "      <td>NaN</td>\n",
              "      <td>NaN</td>\n",
              "      <td>NaN</td>\n",
              "      <td>NaN</td>\n",
              "      <td>NaN</td>\n",
              "      <td>NaN</td>\n",
              "      <td>NaN</td>\n",
              "      <td>Unallocated</td>\n",
              "      <td>Unallocated</td>\n",
              "      <td>NaN</td>\n",
              "      <td>NaN</td>\n",
              "      <td>NaN</td>\n",
              "      <td>NaN</td>\n",
              "      <td>NaN</td>\n",
              "      <td>NaN</td>\n",
              "      <td>Child</td>\n",
              "      <td>8</td>\n",
              "      <td>1562</td>\n",
              "      <td>NaN</td>\n",
              "      <td>LA</td>\n",
              "    </tr>\n",
              "    <tr>\n",
              "      <th>847547</th>\n",
              "      <td>31/12/2018</td>\n",
              "      <td>NaN</td>\n",
              "      <td>NaN</td>\n",
              "      <td>NaN</td>\n",
              "      <td>NaN</td>\n",
              "      <td>NaN</td>\n",
              "      <td>NaN</td>\n",
              "      <td>NaN</td>\n",
              "      <td>Unallocated</td>\n",
              "      <td>Unallocated</td>\n",
              "      <td>NaN</td>\n",
              "      <td>NaN</td>\n",
              "      <td>NaN</td>\n",
              "      <td>NaN</td>\n",
              "      <td>NaN</td>\n",
              "      <td>NaN</td>\n",
              "      <td>Child</td>\n",
              "      <td>9</td>\n",
              "      <td>1508</td>\n",
              "      <td>NaN</td>\n",
              "      <td>LA</td>\n",
              "    </tr>\n",
              "  </tbody>\n",
              "</table>\n",
              "<p>1691466 rows × 21 columns</p>\n",
              "</div>"
            ],
            "text/plain": [
              "       PSEEN_END_DATE GEOG_TYPE  ... POPULATION GEOTYPE\n",
              "0          31/01/2019       CCG  ...     1114.0     NaN\n",
              "1          31/01/2019       CCG  ...     1212.0     NaN\n",
              "2          31/01/2019       CCG  ...     1269.0     NaN\n",
              "3          31/01/2019       CCG  ...     1328.0     NaN\n",
              "4          31/01/2019       CCG  ...     1218.0     NaN\n",
              "...               ...       ...  ...        ...     ...\n",
              "847543     31/12/2018       NaN  ...        NaN      LA\n",
              "847544     31/12/2018       NaN  ...        NaN      LA\n",
              "847545     31/12/2018       NaN  ...        NaN      LA\n",
              "847546     31/12/2018       NaN  ...        NaN      LA\n",
              "847547     31/12/2018       NaN  ...        NaN      LA\n",
              "\n",
              "[1691466 rows x 21 columns]"
            ]
          },
          "metadata": {},
          "execution_count": 20
        }
      ]
    },
    {
      "cell_type": "code",
      "metadata": {
        "colab": {
          "base_uri": "https://localhost:8080/"
        },
        "id": "z1uqob-p-30k",
        "outputId": "59dc8288-9af0-472c-8807-a91bb033d78d"
      },
      "source": [
        "missing3 = patient.isnull().sum()\n",
        "missing3"
      ],
      "id": "z1uqob-p-30k",
      "execution_count": 21,
      "outputs": [
        {
          "output_type": "execute_result",
          "data": {
            "text/plain": [
              "PSEEN_END_DATE              0\n",
              "GEOG_TYPE              847548\n",
              "PRACTICE_CODE           78489\n",
              "PRACTICE_NAME           78489\n",
              "PRAC_POSTCODE           78489\n",
              "CCG_CODE                34485\n",
              "CCG_ONS_CODE            34485\n",
              "CCG_NAME                34485\n",
              "LA_CODE                 44004\n",
              "LA_NAME                 44004\n",
              "REGION_LO_CODE          34485\n",
              "REGION_LO_ONS_CODE      34485\n",
              "REGION_LO_NAME          34485\n",
              "REGION_CODE             34485\n",
              "REGION_ONS_CODE         41382\n",
              "REGION_NAME             41382\n",
              "PATIENT_TYPE                0\n",
              "AGE_BAND                    0\n",
              "PATIENTS_SEEN               0\n",
              "POPULATION            1614117\n",
              "GEOTYPE                843918\n",
              "dtype: int64"
            ]
          },
          "metadata": {},
          "execution_count": 21
        }
      ]
    },
    {
      "cell_type": "code",
      "metadata": {
        "id": "b185ffeb"
      },
      "source": [
        "# select only CCG\n",
        "patient_ccg = patient[patient[\"GEOG_TYPE\"] ==  \"CCG\"]"
      ],
      "id": "b185ffeb",
      "execution_count": 22,
      "outputs": []
    },
    {
      "cell_type": "code",
      "metadata": {
        "colab": {
          "base_uri": "https://localhost:8080/"
        },
        "id": "6f3e1508",
        "outputId": "7c35fd30-e965-4581-ca9e-f72a7ea42af2"
      },
      "source": [
        "patient_ccg.shape\n",
        "patient_ccg.info()"
      ],
      "id": "6f3e1508",
      "execution_count": 23,
      "outputs": [
        {
          "output_type": "stream",
          "name": "stdout",
          "text": [
            "<class 'pandas.core.frame.DataFrame'>\n",
            "Int64Index: 21888 entries, 0 to 826186\n",
            "Data columns (total 21 columns):\n",
            " #   Column              Non-Null Count  Dtype  \n",
            "---  ------              --------------  -----  \n",
            " 0   PSEEN_END_DATE      21888 non-null  object \n",
            " 1   GEOG_TYPE           21888 non-null  object \n",
            " 2   PRACTICE_CODE       0 non-null      object \n",
            " 3   PRACTICE_NAME       0 non-null      object \n",
            " 4   PRAC_POSTCODE       0 non-null      object \n",
            " 5   CCG_CODE            21888 non-null  object \n",
            " 6   CCG_ONS_CODE        21888 non-null  object \n",
            " 7   CCG_NAME            21888 non-null  object \n",
            " 8   LA_CODE             0 non-null      object \n",
            " 9   LA_NAME             0 non-null      object \n",
            " 10  REGION_LO_CODE      21888 non-null  object \n",
            " 11  REGION_LO_ONS_CODE  21888 non-null  object \n",
            " 12  REGION_LO_NAME      21888 non-null  object \n",
            " 13  REGION_CODE         21888 non-null  object \n",
            " 14  REGION_ONS_CODE     21888 non-null  object \n",
            " 15  REGION_NAME         21888 non-null  object \n",
            " 16  PATIENT_TYPE        21888 non-null  object \n",
            " 17  AGE_BAND            21888 non-null  object \n",
            " 18  PATIENTS_SEEN       21888 non-null  int64  \n",
            " 19  POPULATION          21774 non-null  float64\n",
            " 20  GEOTYPE             0 non-null      object \n",
            "dtypes: float64(1), int64(1), object(19)\n",
            "memory usage: 3.7+ MB\n"
          ]
        }
      ]
    },
    {
      "cell_type": "code",
      "metadata": {
        "colab": {
          "base_uri": "https://localhost:8080/"
        },
        "id": "AQQxc52Q_DKE",
        "outputId": "2a23d4c1-0241-4b30-b4e9-caea4dcce744"
      },
      "source": [
        "missing4 = patient_ccg.isnull().sum()\n",
        "missing4"
      ],
      "id": "AQQxc52Q_DKE",
      "execution_count": 25,
      "outputs": [
        {
          "output_type": "execute_result",
          "data": {
            "text/plain": [
              "PSEEN_END_DATE            0\n",
              "GEOG_TYPE                 0\n",
              "PRACTICE_CODE         21888\n",
              "PRACTICE_NAME         21888\n",
              "PRAC_POSTCODE         21888\n",
              "CCG_CODE                  0\n",
              "CCG_ONS_CODE              0\n",
              "CCG_NAME                  0\n",
              "LA_CODE               21888\n",
              "LA_NAME               21888\n",
              "REGION_LO_CODE            0\n",
              "REGION_LO_ONS_CODE        0\n",
              "REGION_LO_NAME            0\n",
              "REGION_CODE               0\n",
              "REGION_ONS_CODE           0\n",
              "REGION_NAME               0\n",
              "PATIENT_TYPE              0\n",
              "AGE_BAND                  0\n",
              "PATIENTS_SEEN             0\n",
              "POPULATION              114\n",
              "GEOTYPE               21888\n",
              "dtype: int64"
            ]
          },
          "metadata": {},
          "execution_count": 25
        }
      ]
    },
    {
      "cell_type": "code",
      "metadata": {
        "colab": {
          "base_uri": "https://localhost:8080/"
        },
        "id": "8489315e",
        "outputId": "b48b04e8-c9ef-408f-ec6b-9c3ebbc08964"
      },
      "source": [
        "patient_ccg_agg = patient_ccg.groupby([\"PSEEN_END_DATE\",\"CCG_CODE\",\"CCG_ONS_CODE\",\"CCG_NAME\",\n",
        "                                       \"PATIENT_TYPE\",\"AGE_BAND\"])[\"PATIENTS_SEEN\",\"POPULATION\"].sum()"
      ],
      "id": "8489315e",
      "execution_count": 24,
      "outputs": [
        {
          "output_type": "stream",
          "name": "stderr",
          "text": [
            "/usr/local/lib/python3.7/dist-packages/ipykernel_launcher.py:2: FutureWarning: Indexing with multiple keys (implicitly converted to a tuple of keys) will be deprecated, use a list instead.\n",
            "  \n"
          ]
        }
      ]
    },
    {
      "cell_type": "code",
      "metadata": {
        "colab": {
          "base_uri": "https://localhost:8080/",
          "height": 455
        },
        "id": "b97dae5e",
        "outputId": "a852cec7-17e1-48a7-8568-dd2d89f7421d"
      },
      "source": [
        "patient_ccg_agg"
      ],
      "id": "b97dae5e",
      "execution_count": 26,
      "outputs": [
        {
          "output_type": "execute_result",
          "data": {
            "text/html": [
              "<div>\n",
              "<style scoped>\n",
              "    .dataframe tbody tr th:only-of-type {\n",
              "        vertical-align: middle;\n",
              "    }\n",
              "\n",
              "    .dataframe tbody tr th {\n",
              "        vertical-align: top;\n",
              "    }\n",
              "\n",
              "    .dataframe thead th {\n",
              "        text-align: right;\n",
              "    }\n",
              "</style>\n",
              "<table border=\"1\" class=\"dataframe\">\n",
              "  <thead>\n",
              "    <tr style=\"text-align: right;\">\n",
              "      <th></th>\n",
              "      <th></th>\n",
              "      <th></th>\n",
              "      <th></th>\n",
              "      <th></th>\n",
              "      <th></th>\n",
              "      <th>PATIENTS_SEEN</th>\n",
              "      <th>POPULATION</th>\n",
              "    </tr>\n",
              "    <tr>\n",
              "      <th>PSEEN_END_DATE</th>\n",
              "      <th>CCG_CODE</th>\n",
              "      <th>CCG_ONS_CODE</th>\n",
              "      <th>CCG_NAME</th>\n",
              "      <th>PATIENT_TYPE</th>\n",
              "      <th>AGE_BAND</th>\n",
              "      <th></th>\n",
              "      <th></th>\n",
              "    </tr>\n",
              "  </thead>\n",
              "  <tbody>\n",
              "    <tr>\n",
              "      <th rowspan=\"5\" valign=\"top\">28/02/2019</th>\n",
              "      <th rowspan=\"5\" valign=\"top\">00C</th>\n",
              "      <th rowspan=\"5\" valign=\"top\">E38000042</th>\n",
              "      <th rowspan=\"5\" valign=\"top\">NHS Darlington CCG</th>\n",
              "      <th>Adult</th>\n",
              "      <th>18+</th>\n",
              "      <td>48004</td>\n",
              "      <td>83871.0</td>\n",
              "    </tr>\n",
              "    <tr>\n",
              "      <th rowspan=\"4\" valign=\"top\">Child</th>\n",
              "      <th>0</th>\n",
              "      <td>42</td>\n",
              "      <td>1114.0</td>\n",
              "    </tr>\n",
              "    <tr>\n",
              "      <th>1</th>\n",
              "      <td>398</td>\n",
              "      <td>1212.0</td>\n",
              "    </tr>\n",
              "    <tr>\n",
              "      <th>10</th>\n",
              "      <td>1022</td>\n",
              "      <td>1269.0</td>\n",
              "    </tr>\n",
              "    <tr>\n",
              "      <th>11</th>\n",
              "      <td>927</td>\n",
              "      <td>1328.0</td>\n",
              "    </tr>\n",
              "    <tr>\n",
              "      <th>...</th>\n",
              "      <th>...</th>\n",
              "      <th>...</th>\n",
              "      <th>...</th>\n",
              "      <th>...</th>\n",
              "      <th>...</th>\n",
              "      <td>...</td>\n",
              "      <td>...</td>\n",
              "    </tr>\n",
              "    <tr>\n",
              "      <th rowspan=\"5\" valign=\"top\">31/05/2019</th>\n",
              "      <th rowspan=\"5\" valign=\"top\">Unallocated</th>\n",
              "      <th rowspan=\"5\" valign=\"top\">Unallocated</th>\n",
              "      <th rowspan=\"5\" valign=\"top\">Unallocated</th>\n",
              "      <th rowspan=\"5\" valign=\"top\">Child</th>\n",
              "      <th>5</th>\n",
              "      <td>1250</td>\n",
              "      <td>0.0</td>\n",
              "    </tr>\n",
              "    <tr>\n",
              "      <th>6</th>\n",
              "      <td>1509</td>\n",
              "      <td>0.0</td>\n",
              "    </tr>\n",
              "    <tr>\n",
              "      <th>7</th>\n",
              "      <td>1477</td>\n",
              "      <td>0.0</td>\n",
              "    </tr>\n",
              "    <tr>\n",
              "      <th>8</th>\n",
              "      <td>1538</td>\n",
              "      <td>0.0</td>\n",
              "    </tr>\n",
              "    <tr>\n",
              "      <th>9</th>\n",
              "      <td>1461</td>\n",
              "      <td>0.0</td>\n",
              "    </tr>\n",
              "  </tbody>\n",
              "</table>\n",
              "<p>21888 rows × 2 columns</p>\n",
              "</div>"
            ],
            "text/plain": [
              "                                                                                  PATIENTS_SEEN  POPULATION\n",
              "PSEEN_END_DATE CCG_CODE    CCG_ONS_CODE CCG_NAME           PATIENT_TYPE AGE_BAND                           \n",
              "28/02/2019     00C         E38000042    NHS Darlington CCG Adult        18+               48004     83871.0\n",
              "                                                           Child        0                    42      1114.0\n",
              "                                                                        1                   398      1212.0\n",
              "                                                                        10                 1022      1269.0\n",
              "                                                                        11                  927      1328.0\n",
              "...                                                                                         ...         ...\n",
              "31/05/2019     Unallocated Unallocated  Unallocated        Child        5                  1250         0.0\n",
              "                                                                        6                  1509         0.0\n",
              "                                                                        7                  1477         0.0\n",
              "                                                                        8                  1538         0.0\n",
              "                                                                        9                  1461         0.0\n",
              "\n",
              "[21888 rows x 2 columns]"
            ]
          },
          "metadata": {},
          "execution_count": 26
        }
      ]
    },
    {
      "cell_type": "code",
      "metadata": {
        "colab": {
          "base_uri": "https://localhost:8080/",
          "height": 455
        },
        "id": "839ea740",
        "outputId": "0984a428-1724-4b86-c20b-f05463405433"
      },
      "source": [
        "patient_seen = DataFrame(patient_ccg_agg )\n",
        "patient_seen"
      ],
      "id": "839ea740",
      "execution_count": 27,
      "outputs": [
        {
          "output_type": "execute_result",
          "data": {
            "text/html": [
              "<div>\n",
              "<style scoped>\n",
              "    .dataframe tbody tr th:only-of-type {\n",
              "        vertical-align: middle;\n",
              "    }\n",
              "\n",
              "    .dataframe tbody tr th {\n",
              "        vertical-align: top;\n",
              "    }\n",
              "\n",
              "    .dataframe thead th {\n",
              "        text-align: right;\n",
              "    }\n",
              "</style>\n",
              "<table border=\"1\" class=\"dataframe\">\n",
              "  <thead>\n",
              "    <tr style=\"text-align: right;\">\n",
              "      <th></th>\n",
              "      <th></th>\n",
              "      <th></th>\n",
              "      <th></th>\n",
              "      <th></th>\n",
              "      <th></th>\n",
              "      <th>PATIENTS_SEEN</th>\n",
              "      <th>POPULATION</th>\n",
              "    </tr>\n",
              "    <tr>\n",
              "      <th>PSEEN_END_DATE</th>\n",
              "      <th>CCG_CODE</th>\n",
              "      <th>CCG_ONS_CODE</th>\n",
              "      <th>CCG_NAME</th>\n",
              "      <th>PATIENT_TYPE</th>\n",
              "      <th>AGE_BAND</th>\n",
              "      <th></th>\n",
              "      <th></th>\n",
              "    </tr>\n",
              "  </thead>\n",
              "  <tbody>\n",
              "    <tr>\n",
              "      <th rowspan=\"5\" valign=\"top\">28/02/2019</th>\n",
              "      <th rowspan=\"5\" valign=\"top\">00C</th>\n",
              "      <th rowspan=\"5\" valign=\"top\">E38000042</th>\n",
              "      <th rowspan=\"5\" valign=\"top\">NHS Darlington CCG</th>\n",
              "      <th>Adult</th>\n",
              "      <th>18+</th>\n",
              "      <td>48004</td>\n",
              "      <td>83871.0</td>\n",
              "    </tr>\n",
              "    <tr>\n",
              "      <th rowspan=\"4\" valign=\"top\">Child</th>\n",
              "      <th>0</th>\n",
              "      <td>42</td>\n",
              "      <td>1114.0</td>\n",
              "    </tr>\n",
              "    <tr>\n",
              "      <th>1</th>\n",
              "      <td>398</td>\n",
              "      <td>1212.0</td>\n",
              "    </tr>\n",
              "    <tr>\n",
              "      <th>10</th>\n",
              "      <td>1022</td>\n",
              "      <td>1269.0</td>\n",
              "    </tr>\n",
              "    <tr>\n",
              "      <th>11</th>\n",
              "      <td>927</td>\n",
              "      <td>1328.0</td>\n",
              "    </tr>\n",
              "    <tr>\n",
              "      <th>...</th>\n",
              "      <th>...</th>\n",
              "      <th>...</th>\n",
              "      <th>...</th>\n",
              "      <th>...</th>\n",
              "      <th>...</th>\n",
              "      <td>...</td>\n",
              "      <td>...</td>\n",
              "    </tr>\n",
              "    <tr>\n",
              "      <th rowspan=\"5\" valign=\"top\">31/05/2019</th>\n",
              "      <th rowspan=\"5\" valign=\"top\">Unallocated</th>\n",
              "      <th rowspan=\"5\" valign=\"top\">Unallocated</th>\n",
              "      <th rowspan=\"5\" valign=\"top\">Unallocated</th>\n",
              "      <th rowspan=\"5\" valign=\"top\">Child</th>\n",
              "      <th>5</th>\n",
              "      <td>1250</td>\n",
              "      <td>0.0</td>\n",
              "    </tr>\n",
              "    <tr>\n",
              "      <th>6</th>\n",
              "      <td>1509</td>\n",
              "      <td>0.0</td>\n",
              "    </tr>\n",
              "    <tr>\n",
              "      <th>7</th>\n",
              "      <td>1477</td>\n",
              "      <td>0.0</td>\n",
              "    </tr>\n",
              "    <tr>\n",
              "      <th>8</th>\n",
              "      <td>1538</td>\n",
              "      <td>0.0</td>\n",
              "    </tr>\n",
              "    <tr>\n",
              "      <th>9</th>\n",
              "      <td>1461</td>\n",
              "      <td>0.0</td>\n",
              "    </tr>\n",
              "  </tbody>\n",
              "</table>\n",
              "<p>21888 rows × 2 columns</p>\n",
              "</div>"
            ],
            "text/plain": [
              "                                                                                  PATIENTS_SEEN  POPULATION\n",
              "PSEEN_END_DATE CCG_CODE    CCG_ONS_CODE CCG_NAME           PATIENT_TYPE AGE_BAND                           \n",
              "28/02/2019     00C         E38000042    NHS Darlington CCG Adult        18+               48004     83871.0\n",
              "                                                           Child        0                    42      1114.0\n",
              "                                                                        1                   398      1212.0\n",
              "                                                                        10                 1022      1269.0\n",
              "                                                                        11                  927      1328.0\n",
              "...                                                                                         ...         ...\n",
              "31/05/2019     Unallocated Unallocated  Unallocated        Child        5                  1250         0.0\n",
              "                                                                        6                  1509         0.0\n",
              "                                                                        7                  1477         0.0\n",
              "                                                                        8                  1538         0.0\n",
              "                                                                        9                  1461         0.0\n",
              "\n",
              "[21888 rows x 2 columns]"
            ]
          },
          "metadata": {},
          "execution_count": 27
        }
      ]
    },
    {
      "cell_type": "code",
      "metadata": {
        "id": "da015460"
      },
      "source": [
        "patient_seen.reset_index(inplace=True )\n"
      ],
      "id": "da015460",
      "execution_count": 29,
      "outputs": []
    },
    {
      "cell_type": "code",
      "metadata": {
        "colab": {
          "base_uri": "https://localhost:8080/",
          "height": 424
        },
        "id": "4268115c",
        "outputId": "dff01e85-6bcd-459d-e87a-6e9cccb36035"
      },
      "source": [
        "patient_seen"
      ],
      "id": "4268115c",
      "execution_count": 30,
      "outputs": [
        {
          "output_type": "execute_result",
          "data": {
            "text/html": [
              "<div>\n",
              "<style scoped>\n",
              "    .dataframe tbody tr th:only-of-type {\n",
              "        vertical-align: middle;\n",
              "    }\n",
              "\n",
              "    .dataframe tbody tr th {\n",
              "        vertical-align: top;\n",
              "    }\n",
              "\n",
              "    .dataframe thead th {\n",
              "        text-align: right;\n",
              "    }\n",
              "</style>\n",
              "<table border=\"1\" class=\"dataframe\">\n",
              "  <thead>\n",
              "    <tr style=\"text-align: right;\">\n",
              "      <th></th>\n",
              "      <th>PSEEN_END_DATE</th>\n",
              "      <th>CCG_CODE</th>\n",
              "      <th>CCG_ONS_CODE</th>\n",
              "      <th>CCG_NAME</th>\n",
              "      <th>PATIENT_TYPE</th>\n",
              "      <th>AGE_BAND</th>\n",
              "      <th>PATIENTS_SEEN</th>\n",
              "      <th>POPULATION</th>\n",
              "    </tr>\n",
              "  </thead>\n",
              "  <tbody>\n",
              "    <tr>\n",
              "      <th>0</th>\n",
              "      <td>28/02/2019</td>\n",
              "      <td>00C</td>\n",
              "      <td>E38000042</td>\n",
              "      <td>NHS Darlington CCG</td>\n",
              "      <td>Adult</td>\n",
              "      <td>18+</td>\n",
              "      <td>48004</td>\n",
              "      <td>83871.0</td>\n",
              "    </tr>\n",
              "    <tr>\n",
              "      <th>1</th>\n",
              "      <td>28/02/2019</td>\n",
              "      <td>00C</td>\n",
              "      <td>E38000042</td>\n",
              "      <td>NHS Darlington CCG</td>\n",
              "      <td>Child</td>\n",
              "      <td>0</td>\n",
              "      <td>42</td>\n",
              "      <td>1114.0</td>\n",
              "    </tr>\n",
              "    <tr>\n",
              "      <th>2</th>\n",
              "      <td>28/02/2019</td>\n",
              "      <td>00C</td>\n",
              "      <td>E38000042</td>\n",
              "      <td>NHS Darlington CCG</td>\n",
              "      <td>Child</td>\n",
              "      <td>1</td>\n",
              "      <td>398</td>\n",
              "      <td>1212.0</td>\n",
              "    </tr>\n",
              "    <tr>\n",
              "      <th>3</th>\n",
              "      <td>28/02/2019</td>\n",
              "      <td>00C</td>\n",
              "      <td>E38000042</td>\n",
              "      <td>NHS Darlington CCG</td>\n",
              "      <td>Child</td>\n",
              "      <td>10</td>\n",
              "      <td>1022</td>\n",
              "      <td>1269.0</td>\n",
              "    </tr>\n",
              "    <tr>\n",
              "      <th>4</th>\n",
              "      <td>28/02/2019</td>\n",
              "      <td>00C</td>\n",
              "      <td>E38000042</td>\n",
              "      <td>NHS Darlington CCG</td>\n",
              "      <td>Child</td>\n",
              "      <td>11</td>\n",
              "      <td>927</td>\n",
              "      <td>1328.0</td>\n",
              "    </tr>\n",
              "    <tr>\n",
              "      <th>...</th>\n",
              "      <td>...</td>\n",
              "      <td>...</td>\n",
              "      <td>...</td>\n",
              "      <td>...</td>\n",
              "      <td>...</td>\n",
              "      <td>...</td>\n",
              "      <td>...</td>\n",
              "      <td>...</td>\n",
              "    </tr>\n",
              "    <tr>\n",
              "      <th>21883</th>\n",
              "      <td>31/05/2019</td>\n",
              "      <td>Unallocated</td>\n",
              "      <td>Unallocated</td>\n",
              "      <td>Unallocated</td>\n",
              "      <td>Child</td>\n",
              "      <td>5</td>\n",
              "      <td>1250</td>\n",
              "      <td>0.0</td>\n",
              "    </tr>\n",
              "    <tr>\n",
              "      <th>21884</th>\n",
              "      <td>31/05/2019</td>\n",
              "      <td>Unallocated</td>\n",
              "      <td>Unallocated</td>\n",
              "      <td>Unallocated</td>\n",
              "      <td>Child</td>\n",
              "      <td>6</td>\n",
              "      <td>1509</td>\n",
              "      <td>0.0</td>\n",
              "    </tr>\n",
              "    <tr>\n",
              "      <th>21885</th>\n",
              "      <td>31/05/2019</td>\n",
              "      <td>Unallocated</td>\n",
              "      <td>Unallocated</td>\n",
              "      <td>Unallocated</td>\n",
              "      <td>Child</td>\n",
              "      <td>7</td>\n",
              "      <td>1477</td>\n",
              "      <td>0.0</td>\n",
              "    </tr>\n",
              "    <tr>\n",
              "      <th>21886</th>\n",
              "      <td>31/05/2019</td>\n",
              "      <td>Unallocated</td>\n",
              "      <td>Unallocated</td>\n",
              "      <td>Unallocated</td>\n",
              "      <td>Child</td>\n",
              "      <td>8</td>\n",
              "      <td>1538</td>\n",
              "      <td>0.0</td>\n",
              "    </tr>\n",
              "    <tr>\n",
              "      <th>21887</th>\n",
              "      <td>31/05/2019</td>\n",
              "      <td>Unallocated</td>\n",
              "      <td>Unallocated</td>\n",
              "      <td>Unallocated</td>\n",
              "      <td>Child</td>\n",
              "      <td>9</td>\n",
              "      <td>1461</td>\n",
              "      <td>0.0</td>\n",
              "    </tr>\n",
              "  </tbody>\n",
              "</table>\n",
              "<p>21888 rows × 8 columns</p>\n",
              "</div>"
            ],
            "text/plain": [
              "      PSEEN_END_DATE     CCG_CODE  ... PATIENTS_SEEN POPULATION\n",
              "0         28/02/2019          00C  ...         48004    83871.0\n",
              "1         28/02/2019          00C  ...            42     1114.0\n",
              "2         28/02/2019          00C  ...           398     1212.0\n",
              "3         28/02/2019          00C  ...          1022     1269.0\n",
              "4         28/02/2019          00C  ...           927     1328.0\n",
              "...              ...          ...  ...           ...        ...\n",
              "21883     31/05/2019  Unallocated  ...          1250        0.0\n",
              "21884     31/05/2019  Unallocated  ...          1509        0.0\n",
              "21885     31/05/2019  Unallocated  ...          1477        0.0\n",
              "21886     31/05/2019  Unallocated  ...          1538        0.0\n",
              "21887     31/05/2019  Unallocated  ...          1461        0.0\n",
              "\n",
              "[21888 rows x 8 columns]"
            ]
          },
          "metadata": {},
          "execution_count": 30
        }
      ]
    },
    {
      "cell_type": "code",
      "metadata": {
        "colab": {
          "base_uri": "https://localhost:8080/"
        },
        "id": "0a803db5",
        "outputId": "77f9f0e7-5465-4c83-e5cd-1c8a1f129dae"
      },
      "source": [
        "patient_seen.shape"
      ],
      "id": "0a803db5",
      "execution_count": 31,
      "outputs": [
        {
          "output_type": "execute_result",
          "data": {
            "text/plain": [
              "(21888, 8)"
            ]
          },
          "metadata": {},
          "execution_count": 31
        }
      ]
    },
    {
      "cell_type": "code",
      "metadata": {
        "colab": {
          "base_uri": "https://localhost:8080/"
        },
        "id": "j3Xbl4yn_Viz",
        "outputId": "af0d2474-cb9f-4d6c-aad6-689369dfd3ad"
      },
      "source": [
        "missing5 = patient_seen.isnull().sum()\n",
        "missing5"
      ],
      "id": "j3Xbl4yn_Viz",
      "execution_count": 32,
      "outputs": [
        {
          "output_type": "execute_result",
          "data": {
            "text/plain": [
              "PSEEN_END_DATE    0\n",
              "CCG_CODE          0\n",
              "CCG_ONS_CODE      0\n",
              "CCG_NAME          0\n",
              "PATIENT_TYPE      0\n",
              "AGE_BAND          0\n",
              "PATIENTS_SEEN     0\n",
              "POPULATION        0\n",
              "dtype: int64"
            ]
          },
          "metadata": {},
          "execution_count": 32
        }
      ]
    },
    {
      "cell_type": "code",
      "metadata": {
        "colab": {
          "base_uri": "https://localhost:8080/"
        },
        "id": "6k7qHwjQxPY4",
        "outputId": "4fc12049-2a77-40de-d78c-413af0209392"
      },
      "source": [
        "!wget https://files.digital.nhs.uk/BD/1C18B4/NHS%20Dental%20Statistics%20for%20England%202018-19%20Annex3_Workforce.csv"
      ],
      "id": "6k7qHwjQxPY4",
      "execution_count": 33,
      "outputs": [
        {
          "output_type": "stream",
          "name": "stdout",
          "text": [
            "--2021-11-29 23:18:03--  https://files.digital.nhs.uk/BD/1C18B4/NHS%20Dental%20Statistics%20for%20England%202018-19%20Annex3_Workforce.csv\n",
            "Resolving files.digital.nhs.uk (files.digital.nhs.uk)... 13.35.118.123, 13.35.118.117, 13.35.118.72, ...\n",
            "Connecting to files.digital.nhs.uk (files.digital.nhs.uk)|13.35.118.123|:443... connected.\n",
            "HTTP request sent, awaiting response... 200 OK\n",
            "Length: 2467471 (2.4M) [text/csv]\n",
            "Saving to: ‘NHS Dental Statistics for England 2018-19 Annex3_Workforce.csv’\n",
            "\n",
            "NHS Dental Statisti 100%[===================>]   2.35M  3.69MB/s    in 0.6s    \n",
            "\n",
            "2021-11-29 23:18:04 (3.69 MB/s) - ‘NHS Dental Statistics for England 2018-19 Annex3_Workforce.csv’ saved [2467471/2467471]\n",
            "\n"
          ]
        }
      ]
    },
    {
      "cell_type": "code",
      "metadata": {
        "id": "0124943a"
      },
      "source": [
        "#Workforce \n",
        "\n",
        "wf = read_csv('NHS Dental Statistics for England 2018-19 Annex3_Workforce.csv')"
      ],
      "id": "0124943a",
      "execution_count": 34,
      "outputs": []
    },
    {
      "cell_type": "code",
      "metadata": {
        "colab": {
          "base_uri": "https://localhost:8080/"
        },
        "id": "48baff72",
        "outputId": "4378d49e-7aec-4521-9d23-135ecfa7fdb3"
      },
      "source": [
        "wf.shape"
      ],
      "id": "48baff72",
      "execution_count": 35,
      "outputs": [
        {
          "output_type": "execute_result",
          "data": {
            "text/plain": [
              "(37358, 9)"
            ]
          },
          "metadata": {},
          "execution_count": 35
        }
      ]
    },
    {
      "cell_type": "code",
      "metadata": {
        "colab": {
          "base_uri": "https://localhost:8080/"
        },
        "id": "90YudQ5l_c0z",
        "outputId": "c4aeab8a-7853-46ca-b35c-73c4d7cb3a4e"
      },
      "source": [
        "missing6 = wf.isnull().sum()\n",
        "missing6"
      ],
      "id": "90YudQ5l_c0z",
      "execution_count": 36,
      "outputs": [
        {
          "output_type": "execute_result",
          "data": {
            "text/plain": [
              "Year                0\n",
              "Geography           0\n",
              "Parent_Code_1       0\n",
              "Parent_Code_2    5313\n",
              "Org_Code         8808\n",
              "Contract_Type       0\n",
              "Age_Group           0\n",
              "Gender              0\n",
              "Dentist_Count       0\n",
              "dtype: int64"
            ]
          },
          "metadata": {},
          "execution_count": 36
        }
      ]
    },
    {
      "cell_type": "code",
      "metadata": {
        "id": "80a9ff7e"
      },
      "source": [
        "wf = wf[wf[\"Year\"]==\"2018-19\"]"
      ],
      "id": "80a9ff7e",
      "execution_count": 37,
      "outputs": []
    },
    {
      "cell_type": "code",
      "metadata": {
        "colab": {
          "base_uri": "https://localhost:8080/"
        },
        "id": "7f7205e3",
        "outputId": "cc18a5fb-f211-4e89-b540-40d0a8531f14"
      },
      "source": [
        "wf.shape"
      ],
      "id": "7f7205e3",
      "execution_count": 38,
      "outputs": [
        {
          "output_type": "execute_result",
          "data": {
            "text/plain": [
              "(4509, 9)"
            ]
          },
          "metadata": {},
          "execution_count": 38
        }
      ]
    },
    {
      "cell_type": "code",
      "metadata": {
        "colab": {
          "base_uri": "https://localhost:8080/"
        },
        "id": "90e8d18a",
        "outputId": "18f31682-f7a1-4031-a582-3eae77633f56"
      },
      "source": [
        "wf[\"Geography\"].unique()"
      ],
      "id": "90e8d18a",
      "execution_count": 39,
      "outputs": [
        {
          "output_type": "execute_result",
          "data": {
            "text/plain": [
              "array(['1.National', '2.NHS England Region',\n",
              "       '3.NHS England Region Local Office',\n",
              "       '4.Clinical Commissioning Group',\n",
              "       '5.Health Education England region'], dtype=object)"
            ]
          },
          "metadata": {},
          "execution_count": 39
        }
      ]
    },
    {
      "cell_type": "code",
      "metadata": {
        "colab": {
          "base_uri": "https://localhost:8080/"
        },
        "id": "c2056987",
        "outputId": "d04b09c1-a559-40fd-e575-192d27af0342"
      },
      "source": [
        "wf[wf[\"Geography\"] == \"2.NHS England Region\"][\"Org_Code\"].unique()\n",
        "\n",
        "# we only need to consider the 3.Clinical Commissioning Group"
      ],
      "id": "c2056987",
      "execution_count": 40,
      "outputs": [
        {
          "output_type": "execute_result",
          "data": {
            "text/plain": [
              "array([nan], dtype=object)"
            ]
          },
          "metadata": {},
          "execution_count": 40
        }
      ]
    },
    {
      "cell_type": "code",
      "metadata": {
        "id": "bcef20c6"
      },
      "source": [
        "wf_ccg = wf[wf[\"Geography\"] == \"4.Clinical Commissioning Group\"]"
      ],
      "id": "bcef20c6",
      "execution_count": 41,
      "outputs": []
    },
    {
      "cell_type": "code",
      "metadata": {
        "colab": {
          "base_uri": "https://localhost:8080/"
        },
        "id": "dfa20894",
        "outputId": "8439415a-7003-4326-b109-771e6044e795"
      },
      "source": [
        "wf_ccg.shape"
      ],
      "id": "dfa20894",
      "execution_count": 42,
      "outputs": [
        {
          "output_type": "execute_result",
          "data": {
            "text/plain": [
              "(3420, 9)"
            ]
          },
          "metadata": {},
          "execution_count": 42
        }
      ]
    },
    {
      "cell_type": "code",
      "metadata": {
        "colab": {
          "base_uri": "https://localhost:8080/",
          "height": 424
        },
        "id": "dd2aef36",
        "outputId": "ba534f54-98cc-4869-87ce-7ab8f099296c"
      },
      "source": [
        "wf_ccg"
      ],
      "id": "dd2aef36",
      "execution_count": 43,
      "outputs": [
        {
          "output_type": "execute_result",
          "data": {
            "text/html": [
              "<div>\n",
              "<style scoped>\n",
              "    .dataframe tbody tr th:only-of-type {\n",
              "        vertical-align: middle;\n",
              "    }\n",
              "\n",
              "    .dataframe tbody tr th {\n",
              "        vertical-align: top;\n",
              "    }\n",
              "\n",
              "    .dataframe thead th {\n",
              "        text-align: right;\n",
              "    }\n",
              "</style>\n",
              "<table border=\"1\" class=\"dataframe\">\n",
              "  <thead>\n",
              "    <tr style=\"text-align: right;\">\n",
              "      <th></th>\n",
              "      <th>Year</th>\n",
              "      <th>Geography</th>\n",
              "      <th>Parent_Code_1</th>\n",
              "      <th>Parent_Code_2</th>\n",
              "      <th>Org_Code</th>\n",
              "      <th>Contract_Type</th>\n",
              "      <th>Age_Group</th>\n",
              "      <th>Gender</th>\n",
              "      <th>Dentist_Count</th>\n",
              "    </tr>\n",
              "  </thead>\n",
              "  <tbody>\n",
              "    <tr>\n",
              "      <th>33533</th>\n",
              "      <td>2018-19</td>\n",
              "      <td>4.Clinical Commissioning Group</td>\n",
              "      <td>Y56</td>\n",
              "      <td>Q71</td>\n",
              "      <td>07L</td>\n",
              "      <td>GDS</td>\n",
              "      <td>45-54</td>\n",
              "      <td>F</td>\n",
              "      <td>4</td>\n",
              "    </tr>\n",
              "    <tr>\n",
              "      <th>33534</th>\n",
              "      <td>2018-19</td>\n",
              "      <td>4.Clinical Commissioning Group</td>\n",
              "      <td>Y56</td>\n",
              "      <td>Q71</td>\n",
              "      <td>07L</td>\n",
              "      <td>GDS</td>\n",
              "      <td>55+</td>\n",
              "      <td>F</td>\n",
              "      <td>2</td>\n",
              "    </tr>\n",
              "    <tr>\n",
              "      <th>33535</th>\n",
              "      <td>2018-19</td>\n",
              "      <td>4.Clinical Commissioning Group</td>\n",
              "      <td>Y56</td>\n",
              "      <td>Q71</td>\n",
              "      <td>07L</td>\n",
              "      <td>TDS</td>\n",
              "      <td>35-44</td>\n",
              "      <td>F</td>\n",
              "      <td>6</td>\n",
              "    </tr>\n",
              "    <tr>\n",
              "      <th>33536</th>\n",
              "      <td>2018-19</td>\n",
              "      <td>4.Clinical Commissioning Group</td>\n",
              "      <td>Y56</td>\n",
              "      <td>Q71</td>\n",
              "      <td>07M</td>\n",
              "      <td>GDS</td>\n",
              "      <td>35-44</td>\n",
              "      <td>F</td>\n",
              "      <td>30</td>\n",
              "    </tr>\n",
              "    <tr>\n",
              "      <th>33537</th>\n",
              "      <td>2018-19</td>\n",
              "      <td>4.Clinical Commissioning Group</td>\n",
              "      <td>Y56</td>\n",
              "      <td>Q71</td>\n",
              "      <td>07M</td>\n",
              "      <td>GDS</td>\n",
              "      <td>55+</td>\n",
              "      <td>M</td>\n",
              "      <td>30</td>\n",
              "    </tr>\n",
              "    <tr>\n",
              "      <th>...</th>\n",
              "      <td>...</td>\n",
              "      <td>...</td>\n",
              "      <td>...</td>\n",
              "      <td>...</td>\n",
              "      <td>...</td>\n",
              "      <td>...</td>\n",
              "      <td>...</td>\n",
              "      <td>...</td>\n",
              "      <td>...</td>\n",
              "    </tr>\n",
              "    <tr>\n",
              "      <th>36948</th>\n",
              "      <td>2018-19</td>\n",
              "      <td>4.Clinical Commissioning Group</td>\n",
              "      <td>Y60</td>\n",
              "      <td>Q76</td>\n",
              "      <td>04K</td>\n",
              "      <td>GDS</td>\n",
              "      <td>55+</td>\n",
              "      <td>F</td>\n",
              "      <td>5</td>\n",
              "    </tr>\n",
              "    <tr>\n",
              "      <th>36949</th>\n",
              "      <td>2018-19</td>\n",
              "      <td>4.Clinical Commissioning Group</td>\n",
              "      <td>Y60</td>\n",
              "      <td>Q76</td>\n",
              "      <td>04K</td>\n",
              "      <td>GDS</td>\n",
              "      <td>Under 35</td>\n",
              "      <td>M</td>\n",
              "      <td>36</td>\n",
              "    </tr>\n",
              "    <tr>\n",
              "      <th>36950</th>\n",
              "      <td>2018-19</td>\n",
              "      <td>4.Clinical Commissioning Group</td>\n",
              "      <td>Y60</td>\n",
              "      <td>Q76</td>\n",
              "      <td>04K</td>\n",
              "      <td>Mixed</td>\n",
              "      <td>45-54</td>\n",
              "      <td>M</td>\n",
              "      <td>2</td>\n",
              "    </tr>\n",
              "    <tr>\n",
              "      <th>36951</th>\n",
              "      <td>2018-19</td>\n",
              "      <td>4.Clinical Commissioning Group</td>\n",
              "      <td>Y60</td>\n",
              "      <td>Q76</td>\n",
              "      <td>04K</td>\n",
              "      <td>PDS</td>\n",
              "      <td>45-54</td>\n",
              "      <td>M</td>\n",
              "      <td>6</td>\n",
              "    </tr>\n",
              "    <tr>\n",
              "      <th>36952</th>\n",
              "      <td>2018-19</td>\n",
              "      <td>4.Clinical Commissioning Group</td>\n",
              "      <td>Y60</td>\n",
              "      <td>Q76</td>\n",
              "      <td>04K</td>\n",
              "      <td>PDS</td>\n",
              "      <td>55+</td>\n",
              "      <td>M</td>\n",
              "      <td>2</td>\n",
              "    </tr>\n",
              "  </tbody>\n",
              "</table>\n",
              "<p>3420 rows × 9 columns</p>\n",
              "</div>"
            ],
            "text/plain": [
              "          Year                       Geography  ... Gender Dentist_Count\n",
              "33533  2018-19  4.Clinical Commissioning Group  ...      F             4\n",
              "33534  2018-19  4.Clinical Commissioning Group  ...      F             2\n",
              "33535  2018-19  4.Clinical Commissioning Group  ...      F             6\n",
              "33536  2018-19  4.Clinical Commissioning Group  ...      F            30\n",
              "33537  2018-19  4.Clinical Commissioning Group  ...      M            30\n",
              "...        ...                             ...  ...    ...           ...\n",
              "36948  2018-19  4.Clinical Commissioning Group  ...      F             5\n",
              "36949  2018-19  4.Clinical Commissioning Group  ...      M            36\n",
              "36950  2018-19  4.Clinical Commissioning Group  ...      M             2\n",
              "36951  2018-19  4.Clinical Commissioning Group  ...      M             6\n",
              "36952  2018-19  4.Clinical Commissioning Group  ...      M             2\n",
              "\n",
              "[3420 rows x 9 columns]"
            ]
          },
          "metadata": {},
          "execution_count": 43
        }
      ]
    },
    {
      "cell_type": "code",
      "metadata": {
        "id": "158ec11a"
      },
      "source": [
        "workforce = DataFrame(wf_ccg.groupby([\"Org_Code\",\"Age_Group\"])[\"Dentist_Count\"].sum())"
      ],
      "id": "158ec11a",
      "execution_count": 44,
      "outputs": []
    },
    {
      "cell_type": "code",
      "metadata": {
        "id": "0b037c4f"
      },
      "source": [
        "workforce.reset_index(inplace=True)"
      ],
      "id": "0b037c4f",
      "execution_count": 45,
      "outputs": []
    },
    {
      "cell_type": "code",
      "metadata": {
        "id": "d9b4d982"
      },
      "source": [
        "workforce.rename(columns = {\"Org_Code\":\"CCG_CODE\",\"Age_Group\":\"Dentist_Age_Group\"} , inplace=True)"
      ],
      "id": "d9b4d982",
      "execution_count": 46,
      "outputs": []
    },
    {
      "cell_type": "code",
      "metadata": {
        "colab": {
          "base_uri": "https://localhost:8080/",
          "height": 424
        },
        "id": "729e107d",
        "outputId": "4d014260-565c-4b76-9840-3610cdb561e7"
      },
      "source": [
        "workforce"
      ],
      "id": "729e107d",
      "execution_count": 47,
      "outputs": [
        {
          "output_type": "execute_result",
          "data": {
            "text/html": [
              "<div>\n",
              "<style scoped>\n",
              "    .dataframe tbody tr th:only-of-type {\n",
              "        vertical-align: middle;\n",
              "    }\n",
              "\n",
              "    .dataframe tbody tr th {\n",
              "        vertical-align: top;\n",
              "    }\n",
              "\n",
              "    .dataframe thead th {\n",
              "        text-align: right;\n",
              "    }\n",
              "</style>\n",
              "<table border=\"1\" class=\"dataframe\">\n",
              "  <thead>\n",
              "    <tr style=\"text-align: right;\">\n",
              "      <th></th>\n",
              "      <th>CCG_CODE</th>\n",
              "      <th>Dentist_Age_Group</th>\n",
              "      <th>Dentist_Count</th>\n",
              "    </tr>\n",
              "  </thead>\n",
              "  <tbody>\n",
              "    <tr>\n",
              "      <th>0</th>\n",
              "      <td>00C</td>\n",
              "      <td>35-44</td>\n",
              "      <td>27</td>\n",
              "    </tr>\n",
              "    <tr>\n",
              "      <th>1</th>\n",
              "      <td>00C</td>\n",
              "      <td>45-54</td>\n",
              "      <td>13</td>\n",
              "    </tr>\n",
              "    <tr>\n",
              "      <th>2</th>\n",
              "      <td>00C</td>\n",
              "      <td>55+</td>\n",
              "      <td>6</td>\n",
              "    </tr>\n",
              "    <tr>\n",
              "      <th>3</th>\n",
              "      <td>00C</td>\n",
              "      <td>Under 35</td>\n",
              "      <td>28</td>\n",
              "    </tr>\n",
              "    <tr>\n",
              "      <th>4</th>\n",
              "      <td>00D</td>\n",
              "      <td>35-44</td>\n",
              "      <td>29</td>\n",
              "    </tr>\n",
              "    <tr>\n",
              "      <th>...</th>\n",
              "      <td>...</td>\n",
              "      <td>...</td>\n",
              "      <td>...</td>\n",
              "    </tr>\n",
              "    <tr>\n",
              "      <th>759</th>\n",
              "      <td>99M</td>\n",
              "      <td>Under 35</td>\n",
              "      <td>41</td>\n",
              "    </tr>\n",
              "    <tr>\n",
              "      <th>760</th>\n",
              "      <td>99N</td>\n",
              "      <td>35-44</td>\n",
              "      <td>77</td>\n",
              "    </tr>\n",
              "    <tr>\n",
              "      <th>761</th>\n",
              "      <td>99N</td>\n",
              "      <td>45-54</td>\n",
              "      <td>44</td>\n",
              "    </tr>\n",
              "    <tr>\n",
              "      <th>762</th>\n",
              "      <td>99N</td>\n",
              "      <td>55+</td>\n",
              "      <td>45</td>\n",
              "    </tr>\n",
              "    <tr>\n",
              "      <th>763</th>\n",
              "      <td>99N</td>\n",
              "      <td>Under 35</td>\n",
              "      <td>94</td>\n",
              "    </tr>\n",
              "  </tbody>\n",
              "</table>\n",
              "<p>764 rows × 3 columns</p>\n",
              "</div>"
            ],
            "text/plain": [
              "    CCG_CODE Dentist_Age_Group  Dentist_Count\n",
              "0        00C             35-44             27\n",
              "1        00C             45-54             13\n",
              "2        00C               55+              6\n",
              "3        00C          Under 35             28\n",
              "4        00D             35-44             29\n",
              "..       ...               ...            ...\n",
              "759      99M          Under 35             41\n",
              "760      99N             35-44             77\n",
              "761      99N             45-54             44\n",
              "762      99N               55+             45\n",
              "763      99N          Under 35             94\n",
              "\n",
              "[764 rows x 3 columns]"
            ]
          },
          "metadata": {},
          "execution_count": 47
        }
      ]
    },
    {
      "cell_type": "code",
      "metadata": {
        "id": "174e15ef"
      },
      "source": [
        "df = merge(patient_seen,workforce , how = \"outer\" , on = [\"CCG_CODE\"])"
      ],
      "id": "174e15ef",
      "execution_count": 48,
      "outputs": []
    },
    {
      "cell_type": "code",
      "metadata": {
        "colab": {
          "base_uri": "https://localhost:8080/"
        },
        "id": "0ea56602",
        "outputId": "f268eeed-c205-4a77-d756-5dcfe9769e01"
      },
      "source": [
        "df.shape"
      ],
      "id": "0ea56602",
      "execution_count": 49,
      "outputs": [
        {
          "output_type": "execute_result",
          "data": {
            "text/plain": [
              "(87210, 10)"
            ]
          },
          "metadata": {},
          "execution_count": 49
        }
      ]
    },
    {
      "cell_type": "code",
      "metadata": {
        "colab": {
          "base_uri": "https://localhost:8080/",
          "height": 206
        },
        "id": "c100a2de",
        "outputId": "943e8f02-8057-4964-9992-e94ba8a1e630"
      },
      "source": [
        "df.head()"
      ],
      "id": "c100a2de",
      "execution_count": 50,
      "outputs": [
        {
          "output_type": "execute_result",
          "data": {
            "text/html": [
              "<div>\n",
              "<style scoped>\n",
              "    .dataframe tbody tr th:only-of-type {\n",
              "        vertical-align: middle;\n",
              "    }\n",
              "\n",
              "    .dataframe tbody tr th {\n",
              "        vertical-align: top;\n",
              "    }\n",
              "\n",
              "    .dataframe thead th {\n",
              "        text-align: right;\n",
              "    }\n",
              "</style>\n",
              "<table border=\"1\" class=\"dataframe\">\n",
              "  <thead>\n",
              "    <tr style=\"text-align: right;\">\n",
              "      <th></th>\n",
              "      <th>PSEEN_END_DATE</th>\n",
              "      <th>CCG_CODE</th>\n",
              "      <th>CCG_ONS_CODE</th>\n",
              "      <th>CCG_NAME</th>\n",
              "      <th>PATIENT_TYPE</th>\n",
              "      <th>AGE_BAND</th>\n",
              "      <th>PATIENTS_SEEN</th>\n",
              "      <th>POPULATION</th>\n",
              "      <th>Dentist_Age_Group</th>\n",
              "      <th>Dentist_Count</th>\n",
              "    </tr>\n",
              "  </thead>\n",
              "  <tbody>\n",
              "    <tr>\n",
              "      <th>0</th>\n",
              "      <td>28/02/2019</td>\n",
              "      <td>00C</td>\n",
              "      <td>E38000042</td>\n",
              "      <td>NHS Darlington CCG</td>\n",
              "      <td>Adult</td>\n",
              "      <td>18+</td>\n",
              "      <td>48004</td>\n",
              "      <td>83871.0</td>\n",
              "      <td>35-44</td>\n",
              "      <td>27.0</td>\n",
              "    </tr>\n",
              "    <tr>\n",
              "      <th>1</th>\n",
              "      <td>28/02/2019</td>\n",
              "      <td>00C</td>\n",
              "      <td>E38000042</td>\n",
              "      <td>NHS Darlington CCG</td>\n",
              "      <td>Adult</td>\n",
              "      <td>18+</td>\n",
              "      <td>48004</td>\n",
              "      <td>83871.0</td>\n",
              "      <td>45-54</td>\n",
              "      <td>13.0</td>\n",
              "    </tr>\n",
              "    <tr>\n",
              "      <th>2</th>\n",
              "      <td>28/02/2019</td>\n",
              "      <td>00C</td>\n",
              "      <td>E38000042</td>\n",
              "      <td>NHS Darlington CCG</td>\n",
              "      <td>Adult</td>\n",
              "      <td>18+</td>\n",
              "      <td>48004</td>\n",
              "      <td>83871.0</td>\n",
              "      <td>55+</td>\n",
              "      <td>6.0</td>\n",
              "    </tr>\n",
              "    <tr>\n",
              "      <th>3</th>\n",
              "      <td>28/02/2019</td>\n",
              "      <td>00C</td>\n",
              "      <td>E38000042</td>\n",
              "      <td>NHS Darlington CCG</td>\n",
              "      <td>Adult</td>\n",
              "      <td>18+</td>\n",
              "      <td>48004</td>\n",
              "      <td>83871.0</td>\n",
              "      <td>Under 35</td>\n",
              "      <td>28.0</td>\n",
              "    </tr>\n",
              "    <tr>\n",
              "      <th>4</th>\n",
              "      <td>28/02/2019</td>\n",
              "      <td>00C</td>\n",
              "      <td>E38000042</td>\n",
              "      <td>NHS Darlington CCG</td>\n",
              "      <td>Child</td>\n",
              "      <td>0</td>\n",
              "      <td>42</td>\n",
              "      <td>1114.0</td>\n",
              "      <td>35-44</td>\n",
              "      <td>27.0</td>\n",
              "    </tr>\n",
              "  </tbody>\n",
              "</table>\n",
              "</div>"
            ],
            "text/plain": [
              "  PSEEN_END_DATE CCG_CODE  ... Dentist_Age_Group Dentist_Count\n",
              "0     28/02/2019      00C  ...             35-44          27.0\n",
              "1     28/02/2019      00C  ...             45-54          13.0\n",
              "2     28/02/2019      00C  ...               55+           6.0\n",
              "3     28/02/2019      00C  ...          Under 35          28.0\n",
              "4     28/02/2019      00C  ...             35-44          27.0\n",
              "\n",
              "[5 rows x 10 columns]"
            ]
          },
          "metadata": {},
          "execution_count": 50
        }
      ]
    },
    {
      "cell_type": "code",
      "metadata": {
        "colab": {
          "base_uri": "https://localhost:8080/"
        },
        "id": "Xb9lu1-wAcEB",
        "outputId": "535bba65-e68c-4ead-edcd-90ede3405bdb"
      },
      "source": [
        "!gdown --id 1ydUNeyNTcvxNzjM_sTctOnuIRnRM8gqG"
      ],
      "id": "Xb9lu1-wAcEB",
      "execution_count": 51,
      "outputs": [
        {
          "output_type": "stream",
          "name": "stdout",
          "text": [
            "Downloading...\n",
            "From: https://drive.google.com/uc?id=1ydUNeyNTcvxNzjM_sTctOnuIRnRM8gqG\n",
            "To: /content/Deprivation.csv\n",
            "\r  0% 0.00/17.7k [00:00<?, ?B/s]\r100% 17.7k/17.7k [00:00<00:00, 9.34MB/s]\n"
          ]
        }
      ]
    },
    {
      "cell_type": "code",
      "metadata": {
        "id": "81756a42"
      },
      "source": [
        "imd = read_csv('Deprivation.csv')\n",
        "imd.rename(columns = {\"Clinical Commissioning Group Code (2019)\":\"CCG_ONS_CODE\"} , inplace=True)"
      ],
      "id": "81756a42",
      "execution_count": 52,
      "outputs": []
    },
    {
      "cell_type": "code",
      "metadata": {
        "scrolled": true,
        "id": "448e9e0c",
        "colab": {
          "base_uri": "https://localhost:8080/",
          "height": 467
        },
        "outputId": "9e26dec2-e7e4-4fd6-9226-310bda12e0c6"
      },
      "source": [
        "imd.head(10)"
      ],
      "id": "448e9e0c",
      "execution_count": 53,
      "outputs": [
        {
          "output_type": "execute_result",
          "data": {
            "text/html": [
              "<div>\n",
              "<style scoped>\n",
              "    .dataframe tbody tr th:only-of-type {\n",
              "        vertical-align: middle;\n",
              "    }\n",
              "\n",
              "    .dataframe tbody tr th {\n",
              "        vertical-align: top;\n",
              "    }\n",
              "\n",
              "    .dataframe thead th {\n",
              "        text-align: right;\n",
              "    }\n",
              "</style>\n",
              "<table border=\"1\" class=\"dataframe\">\n",
              "  <thead>\n",
              "    <tr style=\"text-align: right;\">\n",
              "      <th></th>\n",
              "      <th>CCG_ONS_CODE</th>\n",
              "      <th>Clinical Commissioning Group Name (2019)</th>\n",
              "      <th>IMD - Average rank</th>\n",
              "      <th>IMD - Rank of average rank</th>\n",
              "      <th>IMD - Average score</th>\n",
              "      <th>IMD - Rank of average score</th>\n",
              "      <th>IMD - Proportion of LSOAs in most deprived 10% nationally</th>\n",
              "      <th>IMD - Rank of proportion of LSOAs in most deprived 10% nationally</th>\n",
              "      <th>IMD 2019 - Extent</th>\n",
              "      <th>IMD 2019 - Rank of extent</th>\n",
              "      <th>IMD 2019 - Local concentration</th>\n",
              "      <th>IMD 2019 - Rank of local concentration</th>\n",
              "    </tr>\n",
              "  </thead>\n",
              "  <tbody>\n",
              "    <tr>\n",
              "      <th>0</th>\n",
              "      <td>E38000001</td>\n",
              "      <td>NHS Airedale, Wharfedale and Craven CCG</td>\n",
              "      <td>14491.14</td>\n",
              "      <td>121</td>\n",
              "      <td>20.194</td>\n",
              "      <td>100</td>\n",
              "      <td>0.1443</td>\n",
              "      <td>48</td>\n",
              "      <td>0.2051</td>\n",
              "      <td>77</td>\n",
              "      <td>31573.12</td>\n",
              "      <td>48</td>\n",
              "    </tr>\n",
              "    <tr>\n",
              "      <th>1</th>\n",
              "      <td>E38000002</td>\n",
              "      <td>NHS Ashford CCG</td>\n",
              "      <td>15484.63</td>\n",
              "      <td>109</td>\n",
              "      <td>18.546</td>\n",
              "      <td>118</td>\n",
              "      <td>0.0128</td>\n",
              "      <td>138</td>\n",
              "      <td>0.1088</td>\n",
              "      <td>126</td>\n",
              "      <td>28615.79</td>\n",
              "      <td>122</td>\n",
              "    </tr>\n",
              "    <tr>\n",
              "      <th>2</th>\n",
              "      <td>E38000004</td>\n",
              "      <td>NHS Barking and Dagenham CCG</td>\n",
              "      <td>25551.85</td>\n",
              "      <td>7</td>\n",
              "      <td>32.768</td>\n",
              "      <td>17</td>\n",
              "      <td>0.0364</td>\n",
              "      <td>109</td>\n",
              "      <td>0.4724</td>\n",
              "      <td>16</td>\n",
              "      <td>29391.87</td>\n",
              "      <td>103</td>\n",
              "    </tr>\n",
              "    <tr>\n",
              "      <th>3</th>\n",
              "      <td>E38000005</td>\n",
              "      <td>NHS Barnet CCG</td>\n",
              "      <td>13803.35</td>\n",
              "      <td>138</td>\n",
              "      <td>16.148</td>\n",
              "      <td>144</td>\n",
              "      <td>0.0047</td>\n",
              "      <td>155</td>\n",
              "      <td>0.0523</td>\n",
              "      <td>147</td>\n",
              "      <td>26151.40</td>\n",
              "      <td>147</td>\n",
              "    </tr>\n",
              "    <tr>\n",
              "      <th>4</th>\n",
              "      <td>E38000006</td>\n",
              "      <td>NHS Barnsley CCG</td>\n",
              "      <td>21850.19</td>\n",
              "      <td>31</td>\n",
              "      <td>29.933</td>\n",
              "      <td>32</td>\n",
              "      <td>0.2177</td>\n",
              "      <td>33</td>\n",
              "      <td>0.3838</td>\n",
              "      <td>30</td>\n",
              "      <td>31740.45</td>\n",
              "      <td>44</td>\n",
              "    </tr>\n",
              "    <tr>\n",
              "      <th>5</th>\n",
              "      <td>E38000007</td>\n",
              "      <td>NHS Basildon and Brentwood CCG</td>\n",
              "      <td>14880.00</td>\n",
              "      <td>116</td>\n",
              "      <td>19.329</td>\n",
              "      <td>105</td>\n",
              "      <td>0.0769</td>\n",
              "      <td>79</td>\n",
              "      <td>0.1848</td>\n",
              "      <td>86</td>\n",
              "      <td>30142.19</td>\n",
              "      <td>85</td>\n",
              "    </tr>\n",
              "    <tr>\n",
              "      <th>6</th>\n",
              "      <td>E38000008</td>\n",
              "      <td>NHS Bassetlaw CCG</td>\n",
              "      <td>17877.71</td>\n",
              "      <td>79</td>\n",
              "      <td>22.588</td>\n",
              "      <td>79</td>\n",
              "      <td>0.0714</td>\n",
              "      <td>81</td>\n",
              "      <td>0.2078</td>\n",
              "      <td>75</td>\n",
              "      <td>30491.67</td>\n",
              "      <td>76</td>\n",
              "    </tr>\n",
              "    <tr>\n",
              "      <th>7</th>\n",
              "      <td>E38000009</td>\n",
              "      <td>NHS Bath and North East Somerset CCG</td>\n",
              "      <td>9260.09</td>\n",
              "      <td>180</td>\n",
              "      <td>11.745</td>\n",
              "      <td>179</td>\n",
              "      <td>0.0174</td>\n",
              "      <td>130</td>\n",
              "      <td>0.0402</td>\n",
              "      <td>159</td>\n",
              "      <td>25201.75</td>\n",
              "      <td>164</td>\n",
              "    </tr>\n",
              "    <tr>\n",
              "      <th>8</th>\n",
              "      <td>E38000010</td>\n",
              "      <td>NHS Bedfordshire CCG</td>\n",
              "      <td>11895.15</td>\n",
              "      <td>156</td>\n",
              "      <td>14.721</td>\n",
              "      <td>153</td>\n",
              "      <td>0.0154</td>\n",
              "      <td>132</td>\n",
              "      <td>0.0688</td>\n",
              "      <td>142</td>\n",
              "      <td>27378.93</td>\n",
              "      <td>139</td>\n",
              "    </tr>\n",
              "    <tr>\n",
              "      <th>9</th>\n",
              "      <td>E38000011</td>\n",
              "      <td>NHS Bexley CCG</td>\n",
              "      <td>13529.71</td>\n",
              "      <td>140</td>\n",
              "      <td>16.273</td>\n",
              "      <td>141</td>\n",
              "      <td>0.0000</td>\n",
              "      <td>159</td>\n",
              "      <td>0.0755</td>\n",
              "      <td>138</td>\n",
              "      <td>27051.79</td>\n",
              "      <td>142</td>\n",
              "    </tr>\n",
              "  </tbody>\n",
              "</table>\n",
              "</div>"
            ],
            "text/plain": [
              "  CCG_ONS_CODE  ... IMD 2019 - Rank of local concentration\n",
              "0    E38000001  ...                                     48\n",
              "1    E38000002  ...                                    122\n",
              "2    E38000004  ...                                    103\n",
              "3    E38000005  ...                                    147\n",
              "4    E38000006  ...                                     44\n",
              "5    E38000007  ...                                     85\n",
              "6    E38000008  ...                                     76\n",
              "7    E38000009  ...                                    164\n",
              "8    E38000010  ...                                    139\n",
              "9    E38000011  ...                                    142\n",
              "\n",
              "[10 rows x 12 columns]"
            ]
          },
          "metadata": {},
          "execution_count": 53
        }
      ]
    },
    {
      "cell_type": "code",
      "metadata": {
        "colab": {
          "base_uri": "https://localhost:8080/"
        },
        "id": "yF4-6Pto_rZE",
        "outputId": "365c2fcc-7180-4579-f5ea-c6fdd4abae21"
      },
      "source": [
        "missing7 = imd.isnull().sum()\n",
        "missing7"
      ],
      "id": "yF4-6Pto_rZE",
      "execution_count": 54,
      "outputs": [
        {
          "output_type": "execute_result",
          "data": {
            "text/plain": [
              "CCG_ONS_CODE                                                         0\n",
              "Clinical Commissioning Group Name (2019)                             0\n",
              "IMD - Average rank                                                   0\n",
              "IMD - Rank of average rank                                           0\n",
              "IMD - Average score                                                  0\n",
              "IMD - Rank of average score                                          0\n",
              "IMD - Proportion of LSOAs in most deprived 10% nationally            0\n",
              "IMD - Rank of proportion of LSOAs in most deprived 10% nationally    0\n",
              "IMD 2019 - Extent                                                    0\n",
              "IMD 2019 - Rank of extent                                            0\n",
              "IMD 2019 - Local concentration                                       0\n",
              "IMD 2019 - Rank of local concentration                               0\n",
              "dtype: int64"
            ]
          },
          "metadata": {},
          "execution_count": 54
        }
      ]
    },
    {
      "cell_type": "code",
      "metadata": {
        "id": "P_wbAA5RGye8"
      },
      "source": [
        "imd = imd[ [\"CCG_ONS_CODE\",\"IMD - Average score\"]]"
      ],
      "id": "P_wbAA5RGye8",
      "execution_count": 55,
      "outputs": []
    },
    {
      "cell_type": "code",
      "metadata": {
        "id": "FM-4CliVG0S7"
      },
      "source": [
        "df_final = merge(df,imd , on = \"CCG_ONS_CODE\",  how = \"left\" )"
      ],
      "id": "FM-4CliVG0S7",
      "execution_count": 56,
      "outputs": []
    },
    {
      "cell_type": "code",
      "metadata": {
        "colab": {
          "base_uri": "https://localhost:8080/",
          "height": 206
        },
        "id": "0IrURpcZHFg9",
        "outputId": "3c68ae5c-1d01-4bec-f5bb-403a44f14278"
      },
      "source": [
        "df_final.head()"
      ],
      "id": "0IrURpcZHFg9",
      "execution_count": 57,
      "outputs": [
        {
          "output_type": "execute_result",
          "data": {
            "text/html": [
              "<div>\n",
              "<style scoped>\n",
              "    .dataframe tbody tr th:only-of-type {\n",
              "        vertical-align: middle;\n",
              "    }\n",
              "\n",
              "    .dataframe tbody tr th {\n",
              "        vertical-align: top;\n",
              "    }\n",
              "\n",
              "    .dataframe thead th {\n",
              "        text-align: right;\n",
              "    }\n",
              "</style>\n",
              "<table border=\"1\" class=\"dataframe\">\n",
              "  <thead>\n",
              "    <tr style=\"text-align: right;\">\n",
              "      <th></th>\n",
              "      <th>PSEEN_END_DATE</th>\n",
              "      <th>CCG_CODE</th>\n",
              "      <th>CCG_ONS_CODE</th>\n",
              "      <th>CCG_NAME</th>\n",
              "      <th>PATIENT_TYPE</th>\n",
              "      <th>AGE_BAND</th>\n",
              "      <th>PATIENTS_SEEN</th>\n",
              "      <th>POPULATION</th>\n",
              "      <th>Dentist_Age_Group</th>\n",
              "      <th>Dentist_Count</th>\n",
              "      <th>IMD - Average score</th>\n",
              "    </tr>\n",
              "  </thead>\n",
              "  <tbody>\n",
              "    <tr>\n",
              "      <th>0</th>\n",
              "      <td>28/02/2019</td>\n",
              "      <td>00C</td>\n",
              "      <td>E38000042</td>\n",
              "      <td>NHS Darlington CCG</td>\n",
              "      <td>Adult</td>\n",
              "      <td>18+</td>\n",
              "      <td>48004</td>\n",
              "      <td>83871.0</td>\n",
              "      <td>35-44</td>\n",
              "      <td>27.0</td>\n",
              "      <td>25.657</td>\n",
              "    </tr>\n",
              "    <tr>\n",
              "      <th>1</th>\n",
              "      <td>28/02/2019</td>\n",
              "      <td>00C</td>\n",
              "      <td>E38000042</td>\n",
              "      <td>NHS Darlington CCG</td>\n",
              "      <td>Adult</td>\n",
              "      <td>18+</td>\n",
              "      <td>48004</td>\n",
              "      <td>83871.0</td>\n",
              "      <td>45-54</td>\n",
              "      <td>13.0</td>\n",
              "      <td>25.657</td>\n",
              "    </tr>\n",
              "    <tr>\n",
              "      <th>2</th>\n",
              "      <td>28/02/2019</td>\n",
              "      <td>00C</td>\n",
              "      <td>E38000042</td>\n",
              "      <td>NHS Darlington CCG</td>\n",
              "      <td>Adult</td>\n",
              "      <td>18+</td>\n",
              "      <td>48004</td>\n",
              "      <td>83871.0</td>\n",
              "      <td>55+</td>\n",
              "      <td>6.0</td>\n",
              "      <td>25.657</td>\n",
              "    </tr>\n",
              "    <tr>\n",
              "      <th>3</th>\n",
              "      <td>28/02/2019</td>\n",
              "      <td>00C</td>\n",
              "      <td>E38000042</td>\n",
              "      <td>NHS Darlington CCG</td>\n",
              "      <td>Adult</td>\n",
              "      <td>18+</td>\n",
              "      <td>48004</td>\n",
              "      <td>83871.0</td>\n",
              "      <td>Under 35</td>\n",
              "      <td>28.0</td>\n",
              "      <td>25.657</td>\n",
              "    </tr>\n",
              "    <tr>\n",
              "      <th>4</th>\n",
              "      <td>28/02/2019</td>\n",
              "      <td>00C</td>\n",
              "      <td>E38000042</td>\n",
              "      <td>NHS Darlington CCG</td>\n",
              "      <td>Child</td>\n",
              "      <td>0</td>\n",
              "      <td>42</td>\n",
              "      <td>1114.0</td>\n",
              "      <td>35-44</td>\n",
              "      <td>27.0</td>\n",
              "      <td>25.657</td>\n",
              "    </tr>\n",
              "  </tbody>\n",
              "</table>\n",
              "</div>"
            ],
            "text/plain": [
              "  PSEEN_END_DATE CCG_CODE  ... Dentist_Count IMD - Average score\n",
              "0     28/02/2019      00C  ...          27.0              25.657\n",
              "1     28/02/2019      00C  ...          13.0              25.657\n",
              "2     28/02/2019      00C  ...           6.0              25.657\n",
              "3     28/02/2019      00C  ...          28.0              25.657\n",
              "4     28/02/2019      00C  ...          27.0              25.657\n",
              "\n",
              "[5 rows x 11 columns]"
            ]
          },
          "metadata": {},
          "execution_count": 57
        }
      ]
    },
    {
      "cell_type": "code",
      "metadata": {
        "id": "hW2SL68xHGVf"
      },
      "source": [
        "df_final.set_axis( ['PSEEN_END_DATE', 'CCG_CODE', 'CCG_ONS_CODE', 'CCG_NAME', 'PATIENT_TYPE','AGE_BAND', 'PATIENTS_SEEN', 'POPULATION','DENTIST_AGE_GROUP','NUMBER_OF_DENTIST','AVG_IMD_SCORE'],  axis =1, inplace=True )"
      ],
      "id": "hW2SL68xHGVf",
      "execution_count": 58,
      "outputs": []
    },
    {
      "cell_type": "code",
      "metadata": {
        "colab": {
          "base_uri": "https://localhost:8080/"
        },
        "id": "q2cyerF8HLik",
        "outputId": "3a1095f7-4844-4852-fca8-d1f105d67957"
      },
      "source": [
        "df_final.info()"
      ],
      "id": "q2cyerF8HLik",
      "execution_count": 59,
      "outputs": [
        {
          "output_type": "stream",
          "name": "stdout",
          "text": [
            "<class 'pandas.core.frame.DataFrame'>\n",
            "Int64Index: 87210 entries, 0 to 87209\n",
            "Data columns (total 11 columns):\n",
            " #   Column             Non-Null Count  Dtype  \n",
            "---  ------             --------------  -----  \n",
            " 0   PSEEN_END_DATE     87210 non-null  object \n",
            " 1   CCG_CODE           87210 non-null  object \n",
            " 2   CCG_ONS_CODE       87210 non-null  object \n",
            " 3   CCG_NAME           87210 non-null  object \n",
            " 4   PATIENT_TYPE       87210 non-null  object \n",
            " 5   AGE_BAND           87210 non-null  object \n",
            " 6   PATIENTS_SEEN      87210 non-null  int64  \n",
            " 7   POPULATION         87210 non-null  float64\n",
            " 8   DENTIST_AGE_GROUP  87096 non-null  object \n",
            " 9   NUMBER_OF_DENTIST  87096 non-null  float64\n",
            " 10  AVG_IMD_SCORE      87096 non-null  float64\n",
            "dtypes: float64(3), int64(1), object(7)\n",
            "memory usage: 8.0+ MB\n"
          ]
        }
      ]
    },
    {
      "cell_type": "code",
      "metadata": {
        "colab": {
          "base_uri": "https://localhost:8080/"
        },
        "id": "R5hDoMkADLCo",
        "outputId": "8e9dfb24-6b21-46bc-cfc2-df61af094b70"
      },
      "source": [
        "df_final.shape"
      ],
      "id": "R5hDoMkADLCo",
      "execution_count": 60,
      "outputs": [
        {
          "output_type": "execute_result",
          "data": {
            "text/plain": [
              "(87210, 11)"
            ]
          },
          "metadata": {},
          "execution_count": 60
        }
      ]
    },
    {
      "cell_type": "code",
      "metadata": {
        "colab": {
          "base_uri": "https://localhost:8080/",
          "height": 300
        },
        "id": "-Jk01nACHMt8",
        "outputId": "25fea554-87d9-4e82-c352-2cf05e0f3f23"
      },
      "source": [
        "df_final.describe()"
      ],
      "id": "-Jk01nACHMt8",
      "execution_count": 61,
      "outputs": [
        {
          "output_type": "execute_result",
          "data": {
            "text/html": [
              "<div>\n",
              "<style scoped>\n",
              "    .dataframe tbody tr th:only-of-type {\n",
              "        vertical-align: middle;\n",
              "    }\n",
              "\n",
              "    .dataframe tbody tr th {\n",
              "        vertical-align: top;\n",
              "    }\n",
              "\n",
              "    .dataframe thead th {\n",
              "        text-align: right;\n",
              "    }\n",
              "</style>\n",
              "<table border=\"1\" class=\"dataframe\">\n",
              "  <thead>\n",
              "    <tr style=\"text-align: right;\">\n",
              "      <th></th>\n",
              "      <th>PATIENTS_SEEN</th>\n",
              "      <th>POPULATION</th>\n",
              "      <th>NUMBER_OF_DENTIST</th>\n",
              "      <th>AVG_IMD_SCORE</th>\n",
              "    </tr>\n",
              "  </thead>\n",
              "  <tbody>\n",
              "    <tr>\n",
              "      <th>count</th>\n",
              "      <td>87210.000000</td>\n",
              "      <td>87210.000000</td>\n",
              "      <td>87096.000000</td>\n",
              "      <td>87096.000000</td>\n",
              "    </tr>\n",
              "    <tr>\n",
              "      <th>mean</th>\n",
              "      <td>7962.454306</td>\n",
              "      <td>15306.344685</td>\n",
              "      <td>43.592932</td>\n",
              "      <td>21.910403</td>\n",
              "    </tr>\n",
              "    <tr>\n",
              "      <th>std</th>\n",
              "      <td>30237.062996</td>\n",
              "      <td>60075.524825</td>\n",
              "      <td>34.455351</td>\n",
              "      <td>7.974559</td>\n",
              "    </tr>\n",
              "    <tr>\n",
              "      <th>min</th>\n",
              "      <td>3.000000</td>\n",
              "      <td>0.000000</td>\n",
              "      <td>4.000000</td>\n",
              "      <td>7.180000</td>\n",
              "    </tr>\n",
              "    <tr>\n",
              "      <th>25%</th>\n",
              "      <td>1134.000000</td>\n",
              "      <td>2104.000000</td>\n",
              "      <td>20.000000</td>\n",
              "      <td>16.148000</td>\n",
              "    </tr>\n",
              "    <tr>\n",
              "      <th>50%</th>\n",
              "      <td>1767.000000</td>\n",
              "      <td>3000.000000</td>\n",
              "      <td>34.000000</td>\n",
              "      <td>20.826000</td>\n",
              "    </tr>\n",
              "    <tr>\n",
              "      <th>75%</th>\n",
              "      <td>2658.000000</td>\n",
              "      <td>4365.000000</td>\n",
              "      <td>56.250000</td>\n",
              "      <td>27.301000</td>\n",
              "    </tr>\n",
              "    <tr>\n",
              "      <th>max</th>\n",
              "      <td>497423.000000</td>\n",
              "      <td>962934.000000</td>\n",
              "      <td>258.000000</td>\n",
              "      <td>52.139000</td>\n",
              "    </tr>\n",
              "  </tbody>\n",
              "</table>\n",
              "</div>"
            ],
            "text/plain": [
              "       PATIENTS_SEEN     POPULATION  NUMBER_OF_DENTIST  AVG_IMD_SCORE\n",
              "count   87210.000000   87210.000000       87096.000000   87096.000000\n",
              "mean     7962.454306   15306.344685          43.592932      21.910403\n",
              "std     30237.062996   60075.524825          34.455351       7.974559\n",
              "min         3.000000       0.000000           4.000000       7.180000\n",
              "25%      1134.000000    2104.000000          20.000000      16.148000\n",
              "50%      1767.000000    3000.000000          34.000000      20.826000\n",
              "75%      2658.000000    4365.000000          56.250000      27.301000\n",
              "max    497423.000000  962934.000000         258.000000      52.139000"
            ]
          },
          "metadata": {},
          "execution_count": 61
        }
      ]
    },
    {
      "cell_type": "code",
      "metadata": {
        "colab": {
          "base_uri": "https://localhost:8080/"
        },
        "id": "dTJaiwpOCiDI",
        "outputId": "dc395031-ba2e-427b-deae-d0c1f1a642d1"
      },
      "source": [
        "missing = df_final.isnull().sum()\n",
        "missing"
      ],
      "id": "dTJaiwpOCiDI",
      "execution_count": 62,
      "outputs": [
        {
          "output_type": "execute_result",
          "data": {
            "text/plain": [
              "PSEEN_END_DATE         0\n",
              "CCG_CODE               0\n",
              "CCG_ONS_CODE           0\n",
              "CCG_NAME               0\n",
              "PATIENT_TYPE           0\n",
              "AGE_BAND               0\n",
              "PATIENTS_SEEN          0\n",
              "POPULATION             0\n",
              "DENTIST_AGE_GROUP    114\n",
              "NUMBER_OF_DENTIST    114\n",
              "AVG_IMD_SCORE        114\n",
              "dtype: int64"
            ]
          },
          "metadata": {},
          "execution_count": 62
        }
      ]
    },
    {
      "cell_type": "code",
      "metadata": {
        "colab": {
          "base_uri": "https://localhost:8080/",
          "height": 747
        },
        "id": "0JAx2tDvDtMH",
        "outputId": "978c6071-139d-4fb8-8603-c052dea59d43"
      },
      "source": [
        "import missingno as msno\n",
        "msno.matrix(df_final)"
      ],
      "id": "0JAx2tDvDtMH",
      "execution_count": 63,
      "outputs": [
        {
          "output_type": "execute_result",
          "data": {
            "text/plain": [
              "<matplotlib.axes._subplots.AxesSubplot at 0x7f9c4ecca350>"
            ]
          },
          "metadata": {},
          "execution_count": 63
        },
        {
          "output_type": "display_data",
          "data": {
            "image/png": "[encoded data removed]",
            "text/plain": [
              "<Figure size 1800x720 with 2 Axes>"
            ]
          },
          "metadata": {
            "needs_background": "light"
          }
        }
      ]
    },
    {
      "cell_type": "code",
      "metadata": {
        "id": "Ia4mC53KDPQ3"
      },
      "source": [
        "df_final = df_final.dropna()"
      ],
      "id": "Ia4mC53KDPQ3",
      "execution_count": 64,
      "outputs": []
    },
    {
      "cell_type": "code",
      "metadata": {
        "colab": {
          "base_uri": "https://localhost:8080/"
        },
        "id": "eqlvnUPXDdio",
        "outputId": "73892762-83e4-4c5e-ead1-5bc05332fade"
      },
      "source": [
        "df_final.shape"
      ],
      "id": "eqlvnUPXDdio",
      "execution_count": 65,
      "outputs": [
        {
          "output_type": "execute_result",
          "data": {
            "text/plain": [
              "(87096, 11)"
            ]
          },
          "metadata": {},
          "execution_count": 65
        }
      ]
    },
    {
      "cell_type": "code",
      "metadata": {
        "colab": {
          "base_uri": "https://localhost:8080/"
        },
        "id": "-oJhOcq-Dgva",
        "outputId": "18a750c6-a3c0-49a0-ec1a-7d68dde4f83c"
      },
      "source": [
        "missing = df_final.isnull().sum()\n",
        "missing"
      ],
      "id": "-oJhOcq-Dgva",
      "execution_count": 66,
      "outputs": [
        {
          "output_type": "execute_result",
          "data": {
            "text/plain": [
              "PSEEN_END_DATE       0\n",
              "CCG_CODE             0\n",
              "CCG_ONS_CODE         0\n",
              "CCG_NAME             0\n",
              "PATIENT_TYPE         0\n",
              "AGE_BAND             0\n",
              "PATIENTS_SEEN        0\n",
              "POPULATION           0\n",
              "DENTIST_AGE_GROUP    0\n",
              "NUMBER_OF_DENTIST    0\n",
              "AVG_IMD_SCORE        0\n",
              "dtype: int64"
            ]
          },
          "metadata": {},
          "execution_count": 66
        }
      ]
    },
    {
      "cell_type": "code",
      "metadata": {
        "colab": {
          "base_uri": "https://localhost:8080/",
          "height": 297
        },
        "id": "Q_CwX6ImDjSd",
        "outputId": "2c6a930a-168a-4430-9e65-d66189951a6e"
      },
      "source": [
        "import seaborn as sns\n",
        "sns.boxplot(x=df_final['PATIENTS_SEEN'])"
      ],
      "id": "Q_CwX6ImDjSd",
      "execution_count": 67,
      "outputs": [
        {
          "output_type": "execute_result",
          "data": {
            "text/plain": [
              "<matplotlib.axes._subplots.AxesSubplot at 0x7f9c4edb9cd0>"
            ]
          },
          "metadata": {},
          "execution_count": 67
        },
        {
          "output_type": "display_data",
          "data": {
            "image/png": "[encoded data removed]",
            "text/plain": [
              "<Figure size 432x288 with 1 Axes>"
            ]
          },
          "metadata": {
            "needs_background": "light"
          }
        }
      ]
    },
    {
      "cell_type": "code",
      "metadata": {
        "colab": {
          "base_uri": "https://localhost:8080/",
          "height": 296
        },
        "id": "m2_Fs-beEVpg",
        "outputId": "9c95d5d9-e8d1-4307-f766-fe78424a51d3"
      },
      "source": [
        "sns.boxplot(x=df_final['POPULATION'])"
      ],
      "id": "m2_Fs-beEVpg",
      "execution_count": 68,
      "outputs": [
        {
          "output_type": "execute_result",
          "data": {
            "text/plain": [
              "<matplotlib.axes._subplots.AxesSubplot at 0x7f9c44c27c50>"
            ]
          },
          "metadata": {},
          "execution_count": 68
        },
        {
          "output_type": "display_data",
          "data": {
            "image/png": "[encoded data removed]",
            "text/plain": [
              "<Figure size 432x288 with 1 Axes>"
            ]
          },
          "metadata": {
            "needs_background": "light"
          }
        }
      ]
    },
    {
      "cell_type": "code",
      "metadata": {
        "colab": {
          "base_uri": "https://localhost:8080/",
          "height": 1000
        },
        "id": "ydK6GXvUKjJ2",
        "outputId": "3af4e55a-2f8a-4f74-c611-7f55f4346ee0"
      },
      "source": [
        "num_bins = 15\n",
        "\n",
        "df_final.hist(bins=num_bins, figsize=(20,15))\n",
        "plt.show()"
      ],
      "id": "ydK6GXvUKjJ2",
      "execution_count": 76,
      "outputs": [
        {
          "output_type": "error",
          "ename": "NameError",
          "evalue": "ignored",
          "traceback": [
            "\u001b[0;31m---------------------------------------------------------------------------\u001b[0m",
            "\u001b[0;31mNameError\u001b[0m                                 Traceback (most recent call last)",
            "\u001b[0;32m<ipython-input-76-70643839d9bb>\u001b[0m in \u001b[0;36m<module>\u001b[0;34m()\u001b[0m\n\u001b[1;32m      2\u001b[0m \u001b[0;34m\u001b[0m\u001b[0m\n\u001b[1;32m      3\u001b[0m \u001b[0mdf_final\u001b[0m\u001b[0;34m.\u001b[0m\u001b[0mhist\u001b[0m\u001b[0;34m(\u001b[0m\u001b[0mbins\u001b[0m\u001b[0;34m=\u001b[0m\u001b[0mnum_bins\u001b[0m\u001b[0;34m,\u001b[0m \u001b[0mfigsize\u001b[0m\u001b[0;34m=\u001b[0m\u001b[0;34m(\u001b[0m\u001b[0;36m20\u001b[0m\u001b[0;34m,\u001b[0m\u001b[0;36m15\u001b[0m\u001b[0;34m)\u001b[0m\u001b[0;34m)\u001b[0m\u001b[0;34m\u001b[0m\u001b[0;34m\u001b[0m\u001b[0m\n\u001b[0;32m----> 4\u001b[0;31m \u001b[0mplt\u001b[0m\u001b[0;34m.\u001b[0m\u001b[0mshow\u001b[0m\u001b[0;34m(\u001b[0m\u001b[0;34m)\u001b[0m\u001b[0;34m\u001b[0m\u001b[0;34m\u001b[0m\u001b[0m\n\u001b[0m",
            "\u001b[0;31mNameError\u001b[0m: name 'plt' is not defined"
          ]
        },
        {
          "output_type": "display_data",
          "data": {
            "image/png": "[encoded data removed]",
            "text/plain": [
              "<Figure size 1440x1080 with 4 Axes>"
            ]
          },
          "metadata": {
            "needs_background": "light"
          }
        }
      ]
    },
    {
      "cell_type": "code",
      "metadata": {
        "colab": {
          "base_uri": "https://localhost:8080/",
          "height": 571
        },
        "id": "oWckqPE1KsDl",
        "outputId": "3e58b6e6-efa7-47c3-ab7e-2bda4c9af2fe"
      },
      "source": [
        ""
      ],
      "id": "oWckqPE1KsDl",
      "execution_count": 75,
      "outputs": [
        {
          "output_type": "error",
          "ename": "KeyError",
          "evalue": "ignored",
          "traceback": [
            "\u001b[0;31m---------------------------------------------------------------------------\u001b[0m",
            "\u001b[0;31mKeyError\u001b[0m                                  Traceback (most recent call last)",
            "\u001b[0;32m/usr/local/lib/python3.7/dist-packages/pandas/core/indexes/base.py\u001b[0m in \u001b[0;36mget_loc\u001b[0;34m(self, key, method, tolerance)\u001b[0m\n\u001b[1;32m   2897\u001b[0m             \u001b[0;32mtry\u001b[0m\u001b[0;34m:\u001b[0m\u001b[0;34m\u001b[0m\u001b[0;34m\u001b[0m\u001b[0m\n\u001b[0;32m-> 2898\u001b[0;31m                 \u001b[0;32mreturn\u001b[0m \u001b[0mself\u001b[0m\u001b[0;34m.\u001b[0m\u001b[0m_engine\u001b[0m\u001b[0;34m.\u001b[0m\u001b[0mget_loc\u001b[0m\u001b[0;34m(\u001b[0m\u001b[0mcasted_key\u001b[0m\u001b[0;34m)\u001b[0m\u001b[0;34m\u001b[0m\u001b[0;34m\u001b[0m\u001b[0m\n\u001b[0m\u001b[1;32m   2899\u001b[0m             \u001b[0;32mexcept\u001b[0m \u001b[0mKeyError\u001b[0m \u001b[0;32mas\u001b[0m \u001b[0merr\u001b[0m\u001b[0;34m:\u001b[0m\u001b[0;34m\u001b[0m\u001b[0;34m\u001b[0m\u001b[0m\n",
            "\u001b[0;32mpandas/_libs/index.pyx\u001b[0m in \u001b[0;36mpandas._libs.index.IndexEngine.get_loc\u001b[0;34m()\u001b[0m\n",
            "\u001b[0;32mpandas/_libs/index.pyx\u001b[0m in \u001b[0;36mpandas._libs.index.IndexEngine.get_loc\u001b[0;34m()\u001b[0m\n",
            "\u001b[0;32mpandas/_libs/hashtable_class_helper.pxi\u001b[0m in \u001b[0;36mpandas._libs.hashtable.PyObjectHashTable.get_item\u001b[0;34m()\u001b[0m\n",
            "\u001b[0;32mpandas/_libs/hashtable_class_helper.pxi\u001b[0m in \u001b[0;36mpandas._libs.hashtable.PyObjectHashTable.get_item\u001b[0;34m()\u001b[0m\n",
            "\u001b[0;31mKeyError\u001b[0m: False",
            "\nThe above exception was the direct cause of the following exception:\n",
            "\u001b[0;31mKeyError\u001b[0m                                  Traceback (most recent call last)",
            "\u001b[0;32m<ipython-input-75-d5a5a4e78d01>\u001b[0m in \u001b[0;36m<module>\u001b[0;34m()\u001b[0m\n\u001b[0;32m----> 1\u001b[0;31m \u001b[0mdf_final\u001b[0m \u001b[0;34m=\u001b[0m \u001b[0mdf_final\u001b[0m\u001b[0;34m[\u001b[0m\u001b[0;34m'PSEEN_END_DATE'\u001b[0m \u001b[0;34m<=\u001b[0m \u001b[0;34m'31/03/2019'\u001b[0m\u001b[0;34m]\u001b[0m\u001b[0;34m\u001b[0m\u001b[0;34m\u001b[0m\u001b[0m\n\u001b[0m",
            "\u001b[0;32m/usr/local/lib/python3.7/dist-packages/pandas/core/frame.py\u001b[0m in \u001b[0;36m__getitem__\u001b[0;34m(self, key)\u001b[0m\n\u001b[1;32m   2904\u001b[0m             \u001b[0;32mif\u001b[0m \u001b[0mself\u001b[0m\u001b[0;34m.\u001b[0m\u001b[0mcolumns\u001b[0m\u001b[0;34m.\u001b[0m\u001b[0mnlevels\u001b[0m \u001b[0;34m>\u001b[0m \u001b[0;36m1\u001b[0m\u001b[0;34m:\u001b[0m\u001b[0;34m\u001b[0m\u001b[0;34m\u001b[0m\u001b[0m\n\u001b[1;32m   2905\u001b[0m                 \u001b[0;32mreturn\u001b[0m \u001b[0mself\u001b[0m\u001b[0;34m.\u001b[0m\u001b[0m_getitem_multilevel\u001b[0m\u001b[0;34m(\u001b[0m\u001b[0mkey\u001b[0m\u001b[0;34m)\u001b[0m\u001b[0;34m\u001b[0m\u001b[0;34m\u001b[0m\u001b[0m\n\u001b[0;32m-> 2906\u001b[0;31m             \u001b[0mindexer\u001b[0m \u001b[0;34m=\u001b[0m \u001b[0mself\u001b[0m\u001b[0;34m.\u001b[0m\u001b[0mcolumns\u001b[0m\u001b[0;34m.\u001b[0m\u001b[0mget_loc\u001b[0m\u001b[0;34m(\u001b[0m\u001b[0mkey\u001b[0m\u001b[0;34m)\u001b[0m\u001b[0;34m\u001b[0m\u001b[0;34m\u001b[0m\u001b[0m\n\u001b[0m\u001b[1;32m   2907\u001b[0m             \u001b[0;32mif\u001b[0m \u001b[0mis_integer\u001b[0m\u001b[0;34m(\u001b[0m\u001b[0mindexer\u001b[0m\u001b[0;34m)\u001b[0m\u001b[0;34m:\u001b[0m\u001b[0;34m\u001b[0m\u001b[0;34m\u001b[0m\u001b[0m\n\u001b[1;32m   2908\u001b[0m                 \u001b[0mindexer\u001b[0m \u001b[0;34m=\u001b[0m \u001b[0;34m[\u001b[0m\u001b[0mindexer\u001b[0m\u001b[0;34m]\u001b[0m\u001b[0;34m\u001b[0m\u001b[0;34m\u001b[0m\u001b[0m\n",
            "\u001b[0;32m/usr/local/lib/python3.7/dist-packages/pandas/core/indexes/base.py\u001b[0m in \u001b[0;36mget_loc\u001b[0;34m(self, key, method, tolerance)\u001b[0m\n\u001b[1;32m   2898\u001b[0m                 \u001b[0;32mreturn\u001b[0m \u001b[0mself\u001b[0m\u001b[0;34m.\u001b[0m\u001b[0m_engine\u001b[0m\u001b[0;34m.\u001b[0m\u001b[0mget_loc\u001b[0m\u001b[0;34m(\u001b[0m\u001b[0mcasted_key\u001b[0m\u001b[0;34m)\u001b[0m\u001b[0;34m\u001b[0m\u001b[0;34m\u001b[0m\u001b[0m\n\u001b[1;32m   2899\u001b[0m             \u001b[0;32mexcept\u001b[0m \u001b[0mKeyError\u001b[0m \u001b[0;32mas\u001b[0m \u001b[0merr\u001b[0m\u001b[0;34m:\u001b[0m\u001b[0;34m\u001b[0m\u001b[0;34m\u001b[0m\u001b[0m\n\u001b[0;32m-> 2900\u001b[0;31m                 \u001b[0;32mraise\u001b[0m \u001b[0mKeyError\u001b[0m\u001b[0;34m(\u001b[0m\u001b[0mkey\u001b[0m\u001b[0;34m)\u001b[0m \u001b[0;32mfrom\u001b[0m \u001b[0merr\u001b[0m\u001b[0;34m\u001b[0m\u001b[0;34m\u001b[0m\u001b[0m\n\u001b[0m\u001b[1;32m   2901\u001b[0m \u001b[0;34m\u001b[0m\u001b[0m\n\u001b[1;32m   2902\u001b[0m         \u001b[0;32mif\u001b[0m \u001b[0mtolerance\u001b[0m \u001b[0;32mis\u001b[0m \u001b[0;32mnot\u001b[0m \u001b[0;32mNone\u001b[0m\u001b[0;34m:\u001b[0m\u001b[0;34m\u001b[0m\u001b[0;34m\u001b[0m\u001b[0m\n",
            "\u001b[0;31mKeyError\u001b[0m: False"
          ]
        }
      ]
    },
    {
      "cell_type": "code",
      "metadata": {
        "id": "h3hMVSYIHsIq"
      },
      "source": [
        ""
      ],
      "id": "h3hMVSYIHsIq",
      "execution_count": null,
      "outputs": []
    }
  ]
}